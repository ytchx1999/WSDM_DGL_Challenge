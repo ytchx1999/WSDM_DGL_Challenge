{
 "cells": [
  {
   "cell_type": "code",
   "execution_count": 1,
   "metadata": {},
   "outputs": [
    {
     "name": "stderr",
     "output_type": "stream",
     "text": [
      "Using backend: pytorch\n"
     ]
    }
   ],
   "source": [
    "import torch\n",
    "import dgl\n",
    "import pandas as pd\n",
    "import numpy as np"
   ]
  },
  {
   "cell_type": "markdown",
   "metadata": {},
   "source": [
    "# 1、测试接 test 探索"
   ]
  },
  {
   "cell_type": "markdown",
   "metadata": {},
   "source": [
    "## middle test A 探索"
   ]
  },
  {
   "cell_type": "code",
   "execution_count": 2,
   "metadata": {},
   "outputs": [],
   "source": [
    "test_csv_a = pd.read_csv('./test_csvs/input_A.csv', names=['src', 'dst', 'type', 'start_at', 'end_at'])\n",
    "# label = test_csv.exist.values\n",
    "etype = test_csv_a.type.values\n",
    "src = test_csv_a.src.values\n",
    "dst = test_csv_a.dst.values\n",
    "start_at = torch.tensor(test_csv_a.start_at.values)\n",
    "end_at = torch.tensor(test_csv_a.end_at.values)"
   ]
  },
  {
   "cell_type": "code",
   "execution_count": 3,
   "metadata": {},
   "outputs": [
    {
     "data": {
      "text/html": [
       "<div>\n",
       "<style scoped>\n",
       "    .dataframe tbody tr th:only-of-type {\n",
       "        vertical-align: middle;\n",
       "    }\n",
       "\n",
       "    .dataframe tbody tr th {\n",
       "        vertical-align: top;\n",
       "    }\n",
       "\n",
       "    .dataframe thead th {\n",
       "        text-align: right;\n",
       "    }\n",
       "</style>\n",
       "<table border=\"1\" class=\"dataframe\">\n",
       "  <thead>\n",
       "    <tr style=\"text-align: right;\">\n",
       "      <th></th>\n",
       "      <th>src</th>\n",
       "      <th>dst</th>\n",
       "      <th>type</th>\n",
       "      <th>start_at</th>\n",
       "      <th>end_at</th>\n",
       "    </tr>\n",
       "  </thead>\n",
       "  <tbody>\n",
       "    <tr>\n",
       "      <th>0</th>\n",
       "      <td>19</td>\n",
       "      <td>6486</td>\n",
       "      <td>74</td>\n",
       "      <td>1496093495</td>\n",
       "      <td>1496282477</td>\n",
       "    </tr>\n",
       "    <tr>\n",
       "      <th>1</th>\n",
       "      <td>19</td>\n",
       "      <td>11021</td>\n",
       "      <td>116</td>\n",
       "      <td>1497524067</td>\n",
       "      <td>1497720574</td>\n",
       "    </tr>\n",
       "    <tr>\n",
       "      <th>2</th>\n",
       "      <td>19</td>\n",
       "      <td>28905</td>\n",
       "      <td>245</td>\n",
       "      <td>1497371665</td>\n",
       "      <td>1497538710</td>\n",
       "    </tr>\n",
       "    <tr>\n",
       "      <th>3</th>\n",
       "      <td>19</td>\n",
       "      <td>32125</td>\n",
       "      <td>178</td>\n",
       "      <td>1497432877</td>\n",
       "      <td>1497633034</td>\n",
       "    </tr>\n",
       "    <tr>\n",
       "      <th>4</th>\n",
       "      <td>19</td>\n",
       "      <td>44465</td>\n",
       "      <td>149</td>\n",
       "      <td>1495823478</td>\n",
       "      <td>1495989884</td>\n",
       "    </tr>\n",
       "    <tr>\n",
       "      <th>...</th>\n",
       "      <td>...</td>\n",
       "      <td>...</td>\n",
       "      <td>...</td>\n",
       "      <td>...</td>\n",
       "      <td>...</td>\n",
       "    </tr>\n",
       "    <tr>\n",
       "      <th>49995</th>\n",
       "      <td>69948</td>\n",
       "      <td>28905</td>\n",
       "      <td>238</td>\n",
       "      <td>1494817089</td>\n",
       "      <td>1495000626</td>\n",
       "    </tr>\n",
       "    <tr>\n",
       "      <th>49996</th>\n",
       "      <td>69948</td>\n",
       "      <td>45285</td>\n",
       "      <td>220</td>\n",
       "      <td>1495740412</td>\n",
       "      <td>1495906305</td>\n",
       "    </tr>\n",
       "    <tr>\n",
       "      <th>49997</th>\n",
       "      <td>69961</td>\n",
       "      <td>20816</td>\n",
       "      <td>78</td>\n",
       "      <td>1496748482</td>\n",
       "      <td>1496986910</td>\n",
       "    </tr>\n",
       "    <tr>\n",
       "      <th>49998</th>\n",
       "      <td>69961</td>\n",
       "      <td>33045</td>\n",
       "      <td>20</td>\n",
       "      <td>1497511922</td>\n",
       "      <td>1497656626</td>\n",
       "    </tr>\n",
       "    <tr>\n",
       "      <th>49999</th>\n",
       "      <td>69971</td>\n",
       "      <td>47676</td>\n",
       "      <td>65</td>\n",
       "      <td>1497345133</td>\n",
       "      <td>1497569438</td>\n",
       "    </tr>\n",
       "  </tbody>\n",
       "</table>\n",
       "<p>50000 rows × 5 columns</p>\n",
       "</div>"
      ],
      "text/plain": [
       "         src    dst  type    start_at      end_at\n",
       "0         19   6486    74  1496093495  1496282477\n",
       "1         19  11021   116  1497524067  1497720574\n",
       "2         19  28905   245  1497371665  1497538710\n",
       "3         19  32125   178  1497432877  1497633034\n",
       "4         19  44465   149  1495823478  1495989884\n",
       "...      ...    ...   ...         ...         ...\n",
       "49995  69948  28905   238  1494817089  1495000626\n",
       "49996  69948  45285   220  1495740412  1495906305\n",
       "49997  69961  20816    78  1496748482  1496986910\n",
       "49998  69961  33045    20  1497511922  1497656626\n",
       "49999  69971  47676    65  1497345133  1497569438\n",
       "\n",
       "[50000 rows x 5 columns]"
      ]
     },
     "execution_count": 3,
     "metadata": {},
     "output_type": "execute_result"
    }
   ],
   "source": [
    "test_csv_a"
   ]
  },
  {
   "cell_type": "code",
   "execution_count": 4,
   "metadata": {},
   "outputs": [
    {
     "data": {
      "text/plain": [
       "74     3903\n",
       "8      3704\n",
       "151    3506\n",
       "33     3037\n",
       "20     2907\n",
       "65     2745\n",
       "69     1931\n",
       "237    1919\n",
       "198    1741\n",
       "71     1528\n",
       "Name: type, dtype: int64"
      ]
     },
     "execution_count": 4,
     "metadata": {},
     "output_type": "execute_result"
    }
   ],
   "source": [
    "test_csv_a['type'].value_counts().head(10)"
   ]
  },
  {
   "cell_type": "code",
   "execution_count": 5,
   "metadata": {},
   "outputs": [
    {
     "data": {
      "text/html": [
       "<div>\n",
       "<style scoped>\n",
       "    .dataframe tbody tr th:only-of-type {\n",
       "        vertical-align: middle;\n",
       "    }\n",
       "\n",
       "    .dataframe tbody tr th {\n",
       "        vertical-align: top;\n",
       "    }\n",
       "\n",
       "    .dataframe thead th {\n",
       "        text-align: right;\n",
       "    }\n",
       "</style>\n",
       "<table border=\"1\" class=\"dataframe\">\n",
       "  <thead>\n",
       "    <tr style=\"text-align: right;\">\n",
       "      <th></th>\n",
       "      <th>start_at</th>\n",
       "    </tr>\n",
       "  </thead>\n",
       "  <tbody>\n",
       "    <tr>\n",
       "      <th>count</th>\n",
       "      <td>5.000000e+04</td>\n",
       "    </tr>\n",
       "    <tr>\n",
       "      <th>mean</th>\n",
       "      <td>1.496785e+09</td>\n",
       "    </tr>\n",
       "    <tr>\n",
       "      <th>std</th>\n",
       "      <td>1.238603e+06</td>\n",
       "    </tr>\n",
       "    <tr>\n",
       "      <th>min</th>\n",
       "      <td>1.494585e+09</td>\n",
       "    </tr>\n",
       "    <tr>\n",
       "      <th>25%</th>\n",
       "      <td>1.495697e+09</td>\n",
       "    </tr>\n",
       "    <tr>\n",
       "      <th>50%</th>\n",
       "      <td>1.496783e+09</td>\n",
       "    </tr>\n",
       "    <tr>\n",
       "      <th>75%</th>\n",
       "      <td>1.497886e+09</td>\n",
       "    </tr>\n",
       "    <tr>\n",
       "      <th>max</th>\n",
       "      <td>1.498943e+09</td>\n",
       "    </tr>\n",
       "  </tbody>\n",
       "</table>\n",
       "</div>"
      ],
      "text/plain": [
       "           start_at\n",
       "count  5.000000e+04\n",
       "mean   1.496785e+09\n",
       "std    1.238603e+06\n",
       "min    1.494585e+09\n",
       "25%    1.495697e+09\n",
       "50%    1.496783e+09\n",
       "75%    1.497886e+09\n",
       "max    1.498943e+09"
      ]
     },
     "execution_count": 5,
     "metadata": {},
     "output_type": "execute_result"
    }
   ],
   "source": [
    "test_csv_a[['start_at']].describe()"
   ]
  },
  {
   "cell_type": "code",
   "execution_count": 6,
   "metadata": {},
   "outputs": [
    {
     "data": {
      "text/html": [
       "<div>\n",
       "<style scoped>\n",
       "    .dataframe tbody tr th:only-of-type {\n",
       "        vertical-align: middle;\n",
       "    }\n",
       "\n",
       "    .dataframe tbody tr th {\n",
       "        vertical-align: top;\n",
       "    }\n",
       "\n",
       "    .dataframe thead th {\n",
       "        text-align: right;\n",
       "    }\n",
       "</style>\n",
       "<table border=\"1\" class=\"dataframe\">\n",
       "  <thead>\n",
       "    <tr style=\"text-align: right;\">\n",
       "      <th></th>\n",
       "      <th>end_at</th>\n",
       "    </tr>\n",
       "  </thead>\n",
       "  <tbody>\n",
       "    <tr>\n",
       "      <th>count</th>\n",
       "      <td>5.000000e+04</td>\n",
       "    </tr>\n",
       "    <tr>\n",
       "      <th>mean</th>\n",
       "      <td>1.496957e+09</td>\n",
       "    </tr>\n",
       "    <tr>\n",
       "      <th>std</th>\n",
       "      <td>1.238758e+06</td>\n",
       "    </tr>\n",
       "    <tr>\n",
       "      <th>min</th>\n",
       "      <td>1.494760e+09</td>\n",
       "    </tr>\n",
       "    <tr>\n",
       "      <th>25%</th>\n",
       "      <td>1.495870e+09</td>\n",
       "    </tr>\n",
       "    <tr>\n",
       "      <th>50%</th>\n",
       "      <td>1.496955e+09</td>\n",
       "    </tr>\n",
       "    <tr>\n",
       "      <th>75%</th>\n",
       "      <td>1.498060e+09</td>\n",
       "    </tr>\n",
       "    <tr>\n",
       "      <th>max</th>\n",
       "      <td>1.499121e+09</td>\n",
       "    </tr>\n",
       "  </tbody>\n",
       "</table>\n",
       "</div>"
      ],
      "text/plain": [
       "             end_at\n",
       "count  5.000000e+04\n",
       "mean   1.496957e+09\n",
       "std    1.238758e+06\n",
       "min    1.494760e+09\n",
       "25%    1.495870e+09\n",
       "50%    1.496955e+09\n",
       "75%    1.498060e+09\n",
       "max    1.499121e+09"
      ]
     },
     "execution_count": 6,
     "metadata": {},
     "output_type": "execute_result"
    }
   ],
   "source": [
    "test_csv_a[['end_at']].describe()"
   ]
  },
  {
   "cell_type": "code",
   "execution_count": 7,
   "metadata": {},
   "outputs": [
    {
     "data": {
      "text/plain": [
       "0        188982\n",
       "1        196507\n",
       "2        167045\n",
       "3        200157\n",
       "4        166406\n",
       "          ...  \n",
       "49995    183537\n",
       "49996    165893\n",
       "49997    238428\n",
       "49998    144704\n",
       "49999    224305\n",
       "Length: 50000, dtype: int64"
      ]
     },
     "execution_count": 7,
     "metadata": {},
     "output_type": "execute_result"
    }
   ],
   "source": [
    "test_csv_a['end_at'] - test_csv_a['start_at']"
   ]
  },
  {
   "cell_type": "code",
   "execution_count": 8,
   "metadata": {},
   "outputs": [
    {
     "data": {
      "text/plain": [
       "28905    4899\n",
       "45285    3585\n",
       "64560     910\n",
       "60642     901\n",
       "39520     662\n",
       "45915     626\n",
       "23185     481\n",
       "26464     443\n",
       "69788     429\n",
       "29828     409\n",
       "Name: src, dtype: int64"
      ]
     },
     "execution_count": 8,
     "metadata": {},
     "output_type": "execute_result"
    }
   ],
   "source": [
    "test_csv_a['src'].value_counts().head(10)"
   ]
  },
  {
   "cell_type": "code",
   "execution_count": 9,
   "metadata": {},
   "outputs": [
    {
     "data": {
      "text/plain": [
       "28905    13571\n",
       "45285     2729\n",
       "45915      636\n",
       "60642      621\n",
       "64560      583\n",
       "39520      503\n",
       "26464      482\n",
       "23185      398\n",
       "29828      360\n",
       "27718      344\n",
       "Name: dst, dtype: int64"
      ]
     },
     "execution_count": 9,
     "metadata": {},
     "output_type": "execute_result"
    }
   ],
   "source": [
    "test_csv_a['dst'].value_counts().head(10)"
   ]
  },
  {
   "cell_type": "markdown",
   "metadata": {},
   "source": [
    "## initial test A 探索"
   ]
  },
  {
   "cell_type": "code",
   "execution_count": 10,
   "metadata": {},
   "outputs": [],
   "source": [
    "test_csv_a_init = pd.read_csv('./test_csvs/input_A_initial.csv', names=['src', 'dst', 'type', 'start_at', 'end_at', 'exist'])\n",
    "label = test_csv_a_init.exist.values\n",
    "etype = test_csv_a_init.type.values\n",
    "src = test_csv_a_init.src.values\n",
    "dst = test_csv_a_init.dst.values\n",
    "start_at = torch.tensor(test_csv_a_init.start_at.values)\n",
    "end_at = torch.tensor(test_csv_a_init.end_at.values)"
   ]
  },
  {
   "cell_type": "code",
   "execution_count": 11,
   "metadata": {},
   "outputs": [
    {
     "data": {
      "text/html": [
       "<div>\n",
       "<style scoped>\n",
       "    .dataframe tbody tr th:only-of-type {\n",
       "        vertical-align: middle;\n",
       "    }\n",
       "\n",
       "    .dataframe tbody tr th {\n",
       "        vertical-align: top;\n",
       "    }\n",
       "\n",
       "    .dataframe thead th {\n",
       "        text-align: right;\n",
       "    }\n",
       "</style>\n",
       "<table border=\"1\" class=\"dataframe\">\n",
       "  <thead>\n",
       "    <tr style=\"text-align: right;\">\n",
       "      <th></th>\n",
       "      <th>src</th>\n",
       "      <th>dst</th>\n",
       "      <th>type</th>\n",
       "      <th>start_at</th>\n",
       "      <th>end_at</th>\n",
       "      <th>exist</th>\n",
       "    </tr>\n",
       "  </thead>\n",
       "  <tbody>\n",
       "    <tr>\n",
       "      <th>0</th>\n",
       "      <td>30</td>\n",
       "      <td>48382</td>\n",
       "      <td>151</td>\n",
       "      <td>1494663180</td>\n",
       "      <td>1494794383</td>\n",
       "      <td>1</td>\n",
       "    </tr>\n",
       "    <tr>\n",
       "      <th>1</th>\n",
       "      <td>106</td>\n",
       "      <td>8540</td>\n",
       "      <td>78</td>\n",
       "      <td>1494635755</td>\n",
       "      <td>1494835958</td>\n",
       "      <td>1</td>\n",
       "    </tr>\n",
       "    <tr>\n",
       "      <th>2</th>\n",
       "      <td>106</td>\n",
       "      <td>8540</td>\n",
       "      <td>149</td>\n",
       "      <td>1498383835</td>\n",
       "      <td>1498499059</td>\n",
       "      <td>0</td>\n",
       "    </tr>\n",
       "    <tr>\n",
       "      <th>3</th>\n",
       "      <td>106</td>\n",
       "      <td>20816</td>\n",
       "      <td>65</td>\n",
       "      <td>1494661105</td>\n",
       "      <td>1494827593</td>\n",
       "      <td>1</td>\n",
       "    </tr>\n",
       "    <tr>\n",
       "      <th>4</th>\n",
       "      <td>106</td>\n",
       "      <td>28905</td>\n",
       "      <td>19</td>\n",
       "      <td>1494634666</td>\n",
       "      <td>1494767554</td>\n",
       "      <td>1</td>\n",
       "    </tr>\n",
       "    <tr>\n",
       "      <th>...</th>\n",
       "      <td>...</td>\n",
       "      <td>...</td>\n",
       "      <td>...</td>\n",
       "      <td>...</td>\n",
       "      <td>...</td>\n",
       "      <td>...</td>\n",
       "    </tr>\n",
       "    <tr>\n",
       "      <th>9994</th>\n",
       "      <td>23185</td>\n",
       "      <td>30931</td>\n",
       "      <td>74</td>\n",
       "      <td>1494589260</td>\n",
       "      <td>1494820486</td>\n",
       "      <td>1</td>\n",
       "    </tr>\n",
       "    <tr>\n",
       "      <th>9995</th>\n",
       "      <td>23185</td>\n",
       "      <td>45285</td>\n",
       "      <td>8</td>\n",
       "      <td>1494592908</td>\n",
       "      <td>1494836777</td>\n",
       "      <td>1</td>\n",
       "    </tr>\n",
       "    <tr>\n",
       "      <th>9996</th>\n",
       "      <td>23185</td>\n",
       "      <td>28905</td>\n",
       "      <td>33</td>\n",
       "      <td>1495374710</td>\n",
       "      <td>1495526854</td>\n",
       "      <td>0</td>\n",
       "    </tr>\n",
       "    <tr>\n",
       "      <th>9997</th>\n",
       "      <td>23185</td>\n",
       "      <td>52793</td>\n",
       "      <td>74</td>\n",
       "      <td>1495492292</td>\n",
       "      <td>1495750711</td>\n",
       "      <td>0</td>\n",
       "    </tr>\n",
       "    <tr>\n",
       "      <th>9998</th>\n",
       "      <td>23185</td>\n",
       "      <td>45285</td>\n",
       "      <td>137</td>\n",
       "      <td>1494590040</td>\n",
       "      <td>1494778930</td>\n",
       "      <td>1</td>\n",
       "    </tr>\n",
       "  </tbody>\n",
       "</table>\n",
       "<p>9999 rows × 6 columns</p>\n",
       "</div>"
      ],
      "text/plain": [
       "        src    dst  type    start_at      end_at  exist\n",
       "0        30  48382   151  1494663180  1494794383      1\n",
       "1       106   8540    78  1494635755  1494835958      1\n",
       "2       106   8540   149  1498383835  1498499059      0\n",
       "3       106  20816    65  1494661105  1494827593      1\n",
       "4       106  28905    19  1494634666  1494767554      1\n",
       "...     ...    ...   ...         ...         ...    ...\n",
       "9994  23185  30931    74  1494589260  1494820486      1\n",
       "9995  23185  45285     8  1494592908  1494836777      1\n",
       "9996  23185  28905    33  1495374710  1495526854      0\n",
       "9997  23185  52793    74  1495492292  1495750711      0\n",
       "9998  23185  45285   137  1494590040  1494778930      1\n",
       "\n",
       "[9999 rows x 6 columns]"
      ]
     },
     "execution_count": 11,
     "metadata": {},
     "output_type": "execute_result"
    }
   ],
   "source": [
    "test_csv_a_init"
   ]
  },
  {
   "cell_type": "code",
   "execution_count": 12,
   "metadata": {},
   "outputs": [
    {
     "data": {
      "text/plain": [
       "74     860\n",
       "8      723\n",
       "151    716\n",
       "33     658\n",
       "20     612\n",
       "198    500\n",
       "237    477\n",
       "65     467\n",
       "69     376\n",
       "71     272\n",
       "Name: type, dtype: int64"
      ]
     },
     "execution_count": 12,
     "metadata": {},
     "output_type": "execute_result"
    }
   ],
   "source": [
    "test_csv_a_init['type'].value_counts().head(10)"
   ]
  },
  {
   "cell_type": "code",
   "execution_count": 13,
   "metadata": {},
   "outputs": [
    {
     "data": {
      "text/html": [
       "<div>\n",
       "<style scoped>\n",
       "    .dataframe tbody tr th:only-of-type {\n",
       "        vertical-align: middle;\n",
       "    }\n",
       "\n",
       "    .dataframe tbody tr th {\n",
       "        vertical-align: top;\n",
       "    }\n",
       "\n",
       "    .dataframe thead th {\n",
       "        text-align: right;\n",
       "    }\n",
       "</style>\n",
       "<table border=\"1\" class=\"dataframe\">\n",
       "  <thead>\n",
       "    <tr style=\"text-align: right;\">\n",
       "      <th></th>\n",
       "      <th>start_at</th>\n",
       "    </tr>\n",
       "  </thead>\n",
       "  <tbody>\n",
       "    <tr>\n",
       "      <th>count</th>\n",
       "      <td>9.999000e+03</td>\n",
       "    </tr>\n",
       "    <tr>\n",
       "      <th>mean</th>\n",
       "      <td>1.495319e+09</td>\n",
       "    </tr>\n",
       "    <tr>\n",
       "      <th>std</th>\n",
       "      <td>1.216210e+06</td>\n",
       "    </tr>\n",
       "    <tr>\n",
       "      <th>min</th>\n",
       "      <td>1.494580e+09</td>\n",
       "    </tr>\n",
       "    <tr>\n",
       "      <th>25%</th>\n",
       "      <td>1.494613e+09</td>\n",
       "    </tr>\n",
       "    <tr>\n",
       "      <th>50%</th>\n",
       "      <td>1.494645e+09</td>\n",
       "    </tr>\n",
       "    <tr>\n",
       "      <th>75%</th>\n",
       "      <td>1.495647e+09</td>\n",
       "    </tr>\n",
       "    <tr>\n",
       "      <th>max</th>\n",
       "      <td>1.498946e+09</td>\n",
       "    </tr>\n",
       "  </tbody>\n",
       "</table>\n",
       "</div>"
      ],
      "text/plain": [
       "           start_at\n",
       "count  9.999000e+03\n",
       "mean   1.495319e+09\n",
       "std    1.216210e+06\n",
       "min    1.494580e+09\n",
       "25%    1.494613e+09\n",
       "50%    1.494645e+09\n",
       "75%    1.495647e+09\n",
       "max    1.498946e+09"
      ]
     },
     "execution_count": 13,
     "metadata": {},
     "output_type": "execute_result"
    }
   ],
   "source": [
    "test_csv_a_init[['start_at']].describe()"
   ]
  },
  {
   "cell_type": "code",
   "execution_count": 14,
   "metadata": {},
   "outputs": [
    {
     "data": {
      "text/html": [
       "<div>\n",
       "<style scoped>\n",
       "    .dataframe tbody tr th:only-of-type {\n",
       "        vertical-align: middle;\n",
       "    }\n",
       "\n",
       "    .dataframe tbody tr th {\n",
       "        vertical-align: top;\n",
       "    }\n",
       "\n",
       "    .dataframe thead th {\n",
       "        text-align: right;\n",
       "    }\n",
       "</style>\n",
       "<table border=\"1\" class=\"dataframe\">\n",
       "  <thead>\n",
       "    <tr style=\"text-align: right;\">\n",
       "      <th></th>\n",
       "      <th>end_at</th>\n",
       "    </tr>\n",
       "  </thead>\n",
       "  <tbody>\n",
       "    <tr>\n",
       "      <th>count</th>\n",
       "      <td>9.999000e+03</td>\n",
       "    </tr>\n",
       "    <tr>\n",
       "      <th>mean</th>\n",
       "      <td>1.495492e+09</td>\n",
       "    </tr>\n",
       "    <tr>\n",
       "      <th>std</th>\n",
       "      <td>1.216296e+06</td>\n",
       "    </tr>\n",
       "    <tr>\n",
       "      <th>min</th>\n",
       "      <td>1.494752e+09</td>\n",
       "    </tr>\n",
       "    <tr>\n",
       "      <th>25%</th>\n",
       "      <td>1.494786e+09</td>\n",
       "    </tr>\n",
       "    <tr>\n",
       "      <th>50%</th>\n",
       "      <td>1.494818e+09</td>\n",
       "    </tr>\n",
       "    <tr>\n",
       "      <th>75%</th>\n",
       "      <td>1.495821e+09</td>\n",
       "    </tr>\n",
       "    <tr>\n",
       "      <th>max</th>\n",
       "      <td>1.499109e+09</td>\n",
       "    </tr>\n",
       "  </tbody>\n",
       "</table>\n",
       "</div>"
      ],
      "text/plain": [
       "             end_at\n",
       "count  9.999000e+03\n",
       "mean   1.495492e+09\n",
       "std    1.216296e+06\n",
       "min    1.494752e+09\n",
       "25%    1.494786e+09\n",
       "50%    1.494818e+09\n",
       "75%    1.495821e+09\n",
       "max    1.499109e+09"
      ]
     },
     "execution_count": 14,
     "metadata": {},
     "output_type": "execute_result"
    }
   ],
   "source": [
    "test_csv_a_init[['end_at']].describe()"
   ]
  },
  {
   "cell_type": "code",
   "execution_count": 15,
   "metadata": {},
   "outputs": [
    {
     "data": {
      "text/plain": [
       "28905    1010\n",
       "45285     797\n",
       "64560     217\n",
       "60642     195\n",
       "23185     167\n",
       "45915     125\n",
       "39520     123\n",
       "20816     120\n",
       "30055     104\n",
       "24861     101\n",
       "Name: src, dtype: int64"
      ]
     },
     "execution_count": 15,
     "metadata": {},
     "output_type": "execute_result"
    }
   ],
   "source": [
    "test_csv_a_init['src'].value_counts().head(10)"
   ]
  },
  {
   "cell_type": "code",
   "execution_count": 16,
   "metadata": {},
   "outputs": [
    {
     "data": {
      "text/plain": [
       "28905    2849\n",
       "45285     631\n",
       "60642     138\n",
       "23185     126\n",
       "39520     108\n",
       "64560     106\n",
       "45915     100\n",
       "26464      71\n",
       "30055      70\n",
       "24861      66\n",
       "Name: dst, dtype: int64"
      ]
     },
     "execution_count": 16,
     "metadata": {},
     "output_type": "execute_result"
    }
   ],
   "source": [
    "test_csv_a_init['dst'].value_counts().head(10)"
   ]
  },
  {
   "cell_type": "markdown",
   "metadata": {},
   "source": [
    "## middle test B 探索"
   ]
  },
  {
   "cell_type": "code",
   "execution_count": 17,
   "metadata": {},
   "outputs": [],
   "source": [
    "test_csv_b = pd.read_csv('./test_csvs/input_B.csv', names=['src', 'dst', 'type', 'start_at', 'end_at'])\n",
    "# label = test_csv.exist.values\n",
    "etype = test_csv_b.type.values\n",
    "src = test_csv_b.src.values\n",
    "dst = test_csv_b.dst.values\n",
    "start_at = torch.tensor(test_csv_b.start_at.values)\n",
    "end_at = torch.tensor(test_csv_b.end_at.values)"
   ]
  },
  {
   "cell_type": "code",
   "execution_count": 18,
   "metadata": {},
   "outputs": [
    {
     "data": {
      "text/html": [
       "<div>\n",
       "<style scoped>\n",
       "    .dataframe tbody tr th:only-of-type {\n",
       "        vertical-align: middle;\n",
       "    }\n",
       "\n",
       "    .dataframe tbody tr th {\n",
       "        vertical-align: top;\n",
       "    }\n",
       "\n",
       "    .dataframe thead th {\n",
       "        text-align: right;\n",
       "    }\n",
       "</style>\n",
       "<table border=\"1\" class=\"dataframe\">\n",
       "  <thead>\n",
       "    <tr style=\"text-align: right;\">\n",
       "      <th></th>\n",
       "      <th>src</th>\n",
       "      <th>dst</th>\n",
       "      <th>type</th>\n",
       "      <th>start_at</th>\n",
       "      <th>end_at</th>\n",
       "    </tr>\n",
       "  </thead>\n",
       "  <tbody>\n",
       "    <tr>\n",
       "      <th>0</th>\n",
       "      <td>35</td>\n",
       "      <td>261819</td>\n",
       "      <td>12</td>\n",
       "      <td>1450279885</td>\n",
       "      <td>1450349077</td>\n",
       "    </tr>\n",
       "    <tr>\n",
       "      <th>1</th>\n",
       "      <td>37</td>\n",
       "      <td>561438</td>\n",
       "      <td>12</td>\n",
       "      <td>1447564289</td>\n",
       "      <td>1447669795</td>\n",
       "    </tr>\n",
       "    <tr>\n",
       "      <th>2</th>\n",
       "      <td>48</td>\n",
       "      <td>139003</td>\n",
       "      <td>12</td>\n",
       "      <td>1444784010</td>\n",
       "      <td>1444900992</td>\n",
       "    </tr>\n",
       "    <tr>\n",
       "      <th>3</th>\n",
       "      <td>73</td>\n",
       "      <td>68</td>\n",
       "      <td>2</td>\n",
       "      <td>1450432283</td>\n",
       "      <td>1450565346</td>\n",
       "    </tr>\n",
       "    <tr>\n",
       "      <th>4</th>\n",
       "      <td>82</td>\n",
       "      <td>259862</td>\n",
       "      <td>12</td>\n",
       "      <td>1447048482</td>\n",
       "      <td>1447115044</td>\n",
       "    </tr>\n",
       "    <tr>\n",
       "      <th>...</th>\n",
       "      <td>...</td>\n",
       "      <td>...</td>\n",
       "      <td>...</td>\n",
       "      <td>...</td>\n",
       "      <td>...</td>\n",
       "    </tr>\n",
       "    <tr>\n",
       "      <th>49995</th>\n",
       "      <td>791165</td>\n",
       "      <td>688684</td>\n",
       "      <td>14</td>\n",
       "      <td>1445969159</td>\n",
       "      <td>1446052520</td>\n",
       "    </tr>\n",
       "    <tr>\n",
       "      <th>49996</th>\n",
       "      <td>791237</td>\n",
       "      <td>873406</td>\n",
       "      <td>14</td>\n",
       "      <td>1450613178</td>\n",
       "      <td>1450667809</td>\n",
       "    </tr>\n",
       "    <tr>\n",
       "      <th>49997</th>\n",
       "      <td>791283</td>\n",
       "      <td>210305</td>\n",
       "      <td>14</td>\n",
       "      <td>1447523283</td>\n",
       "      <td>1447644242</td>\n",
       "    </tr>\n",
       "    <tr>\n",
       "      <th>49998</th>\n",
       "      <td>791290</td>\n",
       "      <td>756693</td>\n",
       "      <td>14</td>\n",
       "      <td>1451225076</td>\n",
       "      <td>1451259613</td>\n",
       "    </tr>\n",
       "    <tr>\n",
       "      <th>49999</th>\n",
       "      <td>791311</td>\n",
       "      <td>150719</td>\n",
       "      <td>14</td>\n",
       "      <td>1444875153</td>\n",
       "      <td>1444963549</td>\n",
       "    </tr>\n",
       "  </tbody>\n",
       "</table>\n",
       "<p>50000 rows × 5 columns</p>\n",
       "</div>"
      ],
      "text/plain": [
       "          src     dst  type    start_at      end_at\n",
       "0          35  261819    12  1450279885  1450349077\n",
       "1          37  561438    12  1447564289  1447669795\n",
       "2          48  139003    12  1444784010  1444900992\n",
       "3          73      68     2  1450432283  1450565346\n",
       "4          82  259862    12  1447048482  1447115044\n",
       "...       ...     ...   ...         ...         ...\n",
       "49995  791165  688684    14  1445969159  1446052520\n",
       "49996  791237  873406    14  1450613178  1450667809\n",
       "49997  791283  210305    14  1447523283  1447644242\n",
       "49998  791290  756693    14  1451225076  1451259613\n",
       "49999  791311  150719    14  1444875153  1444963549\n",
       "\n",
       "[50000 rows x 5 columns]"
      ]
     },
     "execution_count": 18,
     "metadata": {},
     "output_type": "execute_result"
    }
   ],
   "source": [
    "test_csv_b"
   ]
  },
  {
   "cell_type": "code",
   "execution_count": 19,
   "metadata": {},
   "outputs": [
    {
     "data": {
      "text/plain": [
       "12    37871\n",
       "2      3706\n",
       "14     2171\n",
       "10     1404\n",
       "4      1389\n",
       "7       785\n",
       "6       718\n",
       "3       658\n",
       "8       536\n",
       "5       318\n",
       "Name: type, dtype: int64"
      ]
     },
     "execution_count": 19,
     "metadata": {},
     "output_type": "execute_result"
    }
   ],
   "source": [
    "test_csv_b['type'].value_counts().head(10)"
   ]
  },
  {
   "cell_type": "code",
   "execution_count": 20,
   "metadata": {},
   "outputs": [
    {
     "data": {
      "text/html": [
       "<div>\n",
       "<style scoped>\n",
       "    .dataframe tbody tr th:only-of-type {\n",
       "        vertical-align: middle;\n",
       "    }\n",
       "\n",
       "    .dataframe tbody tr th {\n",
       "        vertical-align: top;\n",
       "    }\n",
       "\n",
       "    .dataframe thead th {\n",
       "        text-align: right;\n",
       "    }\n",
       "</style>\n",
       "<table border=\"1\" class=\"dataframe\">\n",
       "  <thead>\n",
       "    <tr style=\"text-align: right;\">\n",
       "      <th></th>\n",
       "      <th>start_at</th>\n",
       "    </tr>\n",
       "  </thead>\n",
       "  <tbody>\n",
       "    <tr>\n",
       "      <th>count</th>\n",
       "      <td>5.000000e+04</td>\n",
       "    </tr>\n",
       "    <tr>\n",
       "      <th>mean</th>\n",
       "      <td>1.447200e+09</td>\n",
       "    </tr>\n",
       "    <tr>\n",
       "      <th>std</th>\n",
       "      <td>2.325289e+06</td>\n",
       "    </tr>\n",
       "    <tr>\n",
       "      <th>min</th>\n",
       "      <td>1.443543e+09</td>\n",
       "    </tr>\n",
       "    <tr>\n",
       "      <th>25%</th>\n",
       "      <td>1.445129e+09</td>\n",
       "    </tr>\n",
       "    <tr>\n",
       "      <th>50%</th>\n",
       "      <td>1.447057e+09</td>\n",
       "    </tr>\n",
       "    <tr>\n",
       "      <th>75%</th>\n",
       "      <td>1.449178e+09</td>\n",
       "    </tr>\n",
       "    <tr>\n",
       "      <th>max</th>\n",
       "      <td>1.451602e+09</td>\n",
       "    </tr>\n",
       "  </tbody>\n",
       "</table>\n",
       "</div>"
      ],
      "text/plain": [
       "           start_at\n",
       "count  5.000000e+04\n",
       "mean   1.447200e+09\n",
       "std    2.325289e+06\n",
       "min    1.443543e+09\n",
       "25%    1.445129e+09\n",
       "50%    1.447057e+09\n",
       "75%    1.449178e+09\n",
       "max    1.451602e+09"
      ]
     },
     "execution_count": 20,
     "metadata": {},
     "output_type": "execute_result"
    }
   ],
   "source": [
    "test_csv_b[['start_at']].describe()"
   ]
  },
  {
   "cell_type": "code",
   "execution_count": 21,
   "metadata": {},
   "outputs": [
    {
     "data": {
      "text/html": [
       "<div>\n",
       "<style scoped>\n",
       "    .dataframe tbody tr th:only-of-type {\n",
       "        vertical-align: middle;\n",
       "    }\n",
       "\n",
       "    .dataframe tbody tr th {\n",
       "        vertical-align: top;\n",
       "    }\n",
       "\n",
       "    .dataframe thead th {\n",
       "        text-align: right;\n",
       "    }\n",
       "</style>\n",
       "<table border=\"1\" class=\"dataframe\">\n",
       "  <thead>\n",
       "    <tr style=\"text-align: right;\">\n",
       "      <th></th>\n",
       "      <th>end_at</th>\n",
       "    </tr>\n",
       "  </thead>\n",
       "  <tbody>\n",
       "    <tr>\n",
       "      <th>count</th>\n",
       "      <td>5.000000e+04</td>\n",
       "    </tr>\n",
       "    <tr>\n",
       "      <th>mean</th>\n",
       "      <td>1.447286e+09</td>\n",
       "    </tr>\n",
       "    <tr>\n",
       "      <th>std</th>\n",
       "      <td>2.325143e+06</td>\n",
       "    </tr>\n",
       "    <tr>\n",
       "      <th>min</th>\n",
       "      <td>1.443631e+09</td>\n",
       "    </tr>\n",
       "    <tr>\n",
       "      <th>25%</th>\n",
       "      <td>1.445219e+09</td>\n",
       "    </tr>\n",
       "    <tr>\n",
       "      <th>50%</th>\n",
       "      <td>1.447139e+09</td>\n",
       "    </tr>\n",
       "    <tr>\n",
       "      <th>75%</th>\n",
       "      <td>1.449269e+09</td>\n",
       "    </tr>\n",
       "    <tr>\n",
       "      <th>max</th>\n",
       "      <td>1.451689e+09</td>\n",
       "    </tr>\n",
       "  </tbody>\n",
       "</table>\n",
       "</div>"
      ],
      "text/plain": [
       "             end_at\n",
       "count  5.000000e+04\n",
       "mean   1.447286e+09\n",
       "std    2.325143e+06\n",
       "min    1.443631e+09\n",
       "25%    1.445219e+09\n",
       "50%    1.447139e+09\n",
       "75%    1.449269e+09\n",
       "max    1.451689e+09"
      ]
     },
     "execution_count": 21,
     "metadata": {},
     "output_type": "execute_result"
    }
   ],
   "source": [
    "test_csv_b[['end_at']].describe()"
   ]
  },
  {
   "cell_type": "code",
   "execution_count": 35,
   "metadata": {},
   "outputs": [
    {
     "data": {
      "text/plain": [
       "20295     7\n",
       "374434    6\n",
       "31346     6\n",
       "329454    6\n",
       "180350    6\n",
       "17873     6\n",
       "313823    6\n",
       "245695    6\n",
       "378762    6\n",
       "372578    6\n",
       "364886    5\n",
       "319524    5\n",
       "308329    5\n",
       "284055    5\n",
       "384811    5\n",
       "Name: src, dtype: int64"
      ]
     },
     "execution_count": 35,
     "metadata": {},
     "output_type": "execute_result"
    }
   ],
   "source": [
    "test_csv_b['src'].value_counts().head(15)"
   ]
  },
  {
   "cell_type": "code",
   "execution_count": 36,
   "metadata": {},
   "outputs": [
    {
     "data": {
      "text/plain": [
       "449537    6\n",
       "241190    5\n",
       "14291     5\n",
       "332173    5\n",
       "128487    4\n",
       "337009    4\n",
       "419484    4\n",
       "298339    4\n",
       "208026    4\n",
       "851776    4\n",
       "416257    4\n",
       "432900    4\n",
       "48747     4\n",
       "777629    4\n",
       "404986    4\n",
       "Name: dst, dtype: int64"
      ]
     },
     "execution_count": 36,
     "metadata": {},
     "output_type": "execute_result"
    }
   ],
   "source": [
    "test_csv_b['dst'].value_counts().head(15)"
   ]
  },
  {
   "cell_type": "markdown",
   "metadata": {},
   "source": [
    "## initial test B 探索"
   ]
  },
  {
   "cell_type": "code",
   "execution_count": 25,
   "metadata": {},
   "outputs": [],
   "source": [
    "test_csv_b_init = pd.read_csv('./test_csvs/input_B_initial.csv', names=['src', 'dst', 'type', 'start_at', 'end_at', 'exist'])\n",
    "label = test_csv_b_init.exist.values\n",
    "etype = test_csv_b_init.type.values\n",
    "src = test_csv_b_init.src.values\n",
    "dst = test_csv_b_init.dst.values\n",
    "start_at = torch.tensor(test_csv_b_init.start_at.values)\n",
    "end_at = torch.tensor(test_csv_b_init.end_at.values)"
   ]
  },
  {
   "cell_type": "code",
   "execution_count": 26,
   "metadata": {},
   "outputs": [
    {
     "data": {
      "text/html": [
       "<div>\n",
       "<style scoped>\n",
       "    .dataframe tbody tr th:only-of-type {\n",
       "        vertical-align: middle;\n",
       "    }\n",
       "\n",
       "    .dataframe tbody tr th {\n",
       "        vertical-align: top;\n",
       "    }\n",
       "\n",
       "    .dataframe thead th {\n",
       "        text-align: right;\n",
       "    }\n",
       "</style>\n",
       "<table border=\"1\" class=\"dataframe\">\n",
       "  <thead>\n",
       "    <tr style=\"text-align: right;\">\n",
       "      <th></th>\n",
       "      <th>src</th>\n",
       "      <th>dst</th>\n",
       "      <th>type</th>\n",
       "      <th>start_at</th>\n",
       "      <th>end_at</th>\n",
       "      <th>exist</th>\n",
       "    </tr>\n",
       "  </thead>\n",
       "  <tbody>\n",
       "    <tr>\n",
       "      <th>0</th>\n",
       "      <td>178101</td>\n",
       "      <td>199930</td>\n",
       "      <td>12</td>\n",
       "      <td>1444028118</td>\n",
       "      <td>1444218475</td>\n",
       "      <td>0</td>\n",
       "    </tr>\n",
       "    <tr>\n",
       "      <th>1</th>\n",
       "      <td>225348</td>\n",
       "      <td>258232</td>\n",
       "      <td>12</td>\n",
       "      <td>1443543331</td>\n",
       "      <td>1443701682</td>\n",
       "      <td>1</td>\n",
       "    </tr>\n",
       "    <tr>\n",
       "      <th>2</th>\n",
       "      <td>283252</td>\n",
       "      <td>331153</td>\n",
       "      <td>12</td>\n",
       "      <td>1446453453</td>\n",
       "      <td>1446598532</td>\n",
       "      <td>0</td>\n",
       "    </tr>\n",
       "    <tr>\n",
       "      <th>3</th>\n",
       "      <td>386544</td>\n",
       "      <td>465515</td>\n",
       "      <td>2</td>\n",
       "      <td>1443499609</td>\n",
       "      <td>1443685257</td>\n",
       "      <td>1</td>\n",
       "    </tr>\n",
       "    <tr>\n",
       "      <th>4</th>\n",
       "      <td>260483</td>\n",
       "      <td>302134</td>\n",
       "      <td>12</td>\n",
       "      <td>1443563371</td>\n",
       "      <td>1443709728</td>\n",
       "      <td>1</td>\n",
       "    </tr>\n",
       "    <tr>\n",
       "      <th>...</th>\n",
       "      <td>...</td>\n",
       "      <td>...</td>\n",
       "      <td>...</td>\n",
       "      <td>...</td>\n",
       "      <td>...</td>\n",
       "      <td>...</td>\n",
       "    </tr>\n",
       "    <tr>\n",
       "      <th>5069</th>\n",
       "      <td>385406</td>\n",
       "      <td>464015</td>\n",
       "      <td>12</td>\n",
       "      <td>1448048830</td>\n",
       "      <td>1448249592</td>\n",
       "      <td>0</td>\n",
       "    </tr>\n",
       "    <tr>\n",
       "      <th>5070</th>\n",
       "      <td>367650</td>\n",
       "      <td>440664</td>\n",
       "      <td>12</td>\n",
       "      <td>1448429756</td>\n",
       "      <td>1448543166</td>\n",
       "      <td>0</td>\n",
       "    </tr>\n",
       "    <tr>\n",
       "      <th>5071</th>\n",
       "      <td>386363</td>\n",
       "      <td>465284</td>\n",
       "      <td>12</td>\n",
       "      <td>1443535678</td>\n",
       "      <td>1443696394</td>\n",
       "      <td>1</td>\n",
       "    </tr>\n",
       "    <tr>\n",
       "      <th>5072</th>\n",
       "      <td>386174</td>\n",
       "      <td>465031</td>\n",
       "      <td>12</td>\n",
       "      <td>1443589758</td>\n",
       "      <td>1443712525</td>\n",
       "      <td>1</td>\n",
       "    </tr>\n",
       "    <tr>\n",
       "      <th>5073</th>\n",
       "      <td>386297</td>\n",
       "      <td>465201</td>\n",
       "      <td>12</td>\n",
       "      <td>1443596615</td>\n",
       "      <td>1443740477</td>\n",
       "      <td>1</td>\n",
       "    </tr>\n",
       "  </tbody>\n",
       "</table>\n",
       "<p>5074 rows × 6 columns</p>\n",
       "</div>"
      ],
      "text/plain": [
       "         src     dst  type    start_at      end_at  exist\n",
       "0     178101  199930    12  1444028118  1444218475      0\n",
       "1     225348  258232    12  1443543331  1443701682      1\n",
       "2     283252  331153    12  1446453453  1446598532      0\n",
       "3     386544  465515     2  1443499609  1443685257      1\n",
       "4     260483  302134    12  1443563371  1443709728      1\n",
       "...      ...     ...   ...         ...         ...    ...\n",
       "5069  385406  464015    12  1448048830  1448249592      0\n",
       "5070  367650  440664    12  1448429756  1448543166      0\n",
       "5071  386363  465284    12  1443535678  1443696394      1\n",
       "5072  386174  465031    12  1443589758  1443712525      1\n",
       "5073  386297  465201    12  1443596615  1443740477      1\n",
       "\n",
       "[5074 rows x 6 columns]"
      ]
     },
     "execution_count": 26,
     "metadata": {},
     "output_type": "execute_result"
    }
   ],
   "source": [
    "test_csv_b_init"
   ]
  },
  {
   "cell_type": "code",
   "execution_count": 27,
   "metadata": {},
   "outputs": [
    {
     "data": {
      "text/plain": [
       "12    4116\n",
       "2      258\n",
       "10     154\n",
       "14     117\n",
       "8       74\n",
       "7       74\n",
       "3       69\n",
       "4       69\n",
       "6       54\n",
       "5       46\n",
       "Name: type, dtype: int64"
      ]
     },
     "execution_count": 27,
     "metadata": {},
     "output_type": "execute_result"
    }
   ],
   "source": [
    "test_csv_b_init['type'].value_counts().head(10)"
   ]
  },
  {
   "cell_type": "code",
   "execution_count": 28,
   "metadata": {},
   "outputs": [
    {
     "data": {
      "text/html": [
       "<div>\n",
       "<style scoped>\n",
       "    .dataframe tbody tr th:only-of-type {\n",
       "        vertical-align: middle;\n",
       "    }\n",
       "\n",
       "    .dataframe tbody tr th {\n",
       "        vertical-align: top;\n",
       "    }\n",
       "\n",
       "    .dataframe thead th {\n",
       "        text-align: right;\n",
       "    }\n",
       "</style>\n",
       "<table border=\"1\" class=\"dataframe\">\n",
       "  <thead>\n",
       "    <tr style=\"text-align: right;\">\n",
       "      <th></th>\n",
       "      <th>start_at</th>\n",
       "    </tr>\n",
       "  </thead>\n",
       "  <tbody>\n",
       "    <tr>\n",
       "      <th>count</th>\n",
       "      <td>5.074000e+03</td>\n",
       "    </tr>\n",
       "    <tr>\n",
       "      <th>mean</th>\n",
       "      <td>1.444633e+09</td>\n",
       "    </tr>\n",
       "    <tr>\n",
       "      <th>std</th>\n",
       "      <td>2.143934e+06</td>\n",
       "    </tr>\n",
       "    <tr>\n",
       "      <th>min</th>\n",
       "      <td>1.443500e+09</td>\n",
       "    </tr>\n",
       "    <tr>\n",
       "      <th>25%</th>\n",
       "      <td>1.443537e+09</td>\n",
       "    </tr>\n",
       "    <tr>\n",
       "      <th>50%</th>\n",
       "      <td>1.443566e+09</td>\n",
       "    </tr>\n",
       "    <tr>\n",
       "      <th>75%</th>\n",
       "      <td>1.444128e+09</td>\n",
       "    </tr>\n",
       "    <tr>\n",
       "      <th>max</th>\n",
       "      <td>1.451524e+09</td>\n",
       "    </tr>\n",
       "  </tbody>\n",
       "</table>\n",
       "</div>"
      ],
      "text/plain": [
       "           start_at\n",
       "count  5.074000e+03\n",
       "mean   1.444633e+09\n",
       "std    2.143934e+06\n",
       "min    1.443500e+09\n",
       "25%    1.443537e+09\n",
       "50%    1.443566e+09\n",
       "75%    1.444128e+09\n",
       "max    1.451524e+09"
      ]
     },
     "execution_count": 28,
     "metadata": {},
     "output_type": "execute_result"
    }
   ],
   "source": [
    "test_csv_b_init[['start_at']].describe()"
   ]
  },
  {
   "cell_type": "code",
   "execution_count": 29,
   "metadata": {},
   "outputs": [
    {
     "data": {
      "text/html": [
       "<div>\n",
       "<style scoped>\n",
       "    .dataframe tbody tr th:only-of-type {\n",
       "        vertical-align: middle;\n",
       "    }\n",
       "\n",
       "    .dataframe tbody tr th {\n",
       "        vertical-align: top;\n",
       "    }\n",
       "\n",
       "    .dataframe thead th {\n",
       "        text-align: right;\n",
       "    }\n",
       "</style>\n",
       "<table border=\"1\" class=\"dataframe\">\n",
       "  <thead>\n",
       "    <tr style=\"text-align: right;\">\n",
       "      <th></th>\n",
       "      <th>end_at</th>\n",
       "    </tr>\n",
       "  </thead>\n",
       "  <tbody>\n",
       "    <tr>\n",
       "      <th>count</th>\n",
       "      <td>5.074000e+03</td>\n",
       "    </tr>\n",
       "    <tr>\n",
       "      <th>mean</th>\n",
       "      <td>1.444806e+09</td>\n",
       "    </tr>\n",
       "    <tr>\n",
       "      <th>std</th>\n",
       "      <td>2.144471e+06</td>\n",
       "    </tr>\n",
       "    <tr>\n",
       "      <th>min</th>\n",
       "      <td>1.443673e+09</td>\n",
       "    </tr>\n",
       "    <tr>\n",
       "      <th>25%</th>\n",
       "      <td>1.443710e+09</td>\n",
       "    </tr>\n",
       "    <tr>\n",
       "      <th>50%</th>\n",
       "      <td>1.443739e+09</td>\n",
       "    </tr>\n",
       "    <tr>\n",
       "      <th>75%</th>\n",
       "      <td>1.444297e+09</td>\n",
       "    </tr>\n",
       "    <tr>\n",
       "      <th>max</th>\n",
       "      <td>1.451716e+09</td>\n",
       "    </tr>\n",
       "  </tbody>\n",
       "</table>\n",
       "</div>"
      ],
      "text/plain": [
       "             end_at\n",
       "count  5.074000e+03\n",
       "mean   1.444806e+09\n",
       "std    2.144471e+06\n",
       "min    1.443673e+09\n",
       "25%    1.443710e+09\n",
       "50%    1.443739e+09\n",
       "75%    1.444297e+09\n",
       "max    1.451716e+09"
      ]
     },
     "execution_count": 29,
     "metadata": {},
     "output_type": "execute_result"
    }
   ],
   "source": [
    "test_csv_b_init[['end_at']].describe()"
   ]
  },
  {
   "cell_type": "code",
   "execution_count": 37,
   "metadata": {},
   "outputs": [
    {
     "data": {
      "text/plain": [
       "372753    18\n",
       "385707    13\n",
       "359422    12\n",
       "377946    11\n",
       "386397    11\n",
       "386456    11\n",
       "376839    11\n",
       "274130    10\n",
       "386490    10\n",
       "386533    10\n",
       "15989     10\n",
       "386521     9\n",
       "385453     9\n",
       "361455     9\n",
       "386529     9\n",
       "Name: src, dtype: int64"
      ]
     },
     "execution_count": 37,
     "metadata": {},
     "output_type": "execute_result"
    }
   ],
   "source": [
    "test_csv_b_init['src'].value_counts().head(15)"
   ]
  },
  {
   "cell_type": "code",
   "execution_count": 38,
   "metadata": {},
   "outputs": [
    {
     "data": {
      "text/plain": [
       "447352    17\n",
       "464420    13\n",
       "454221    11\n",
       "465351    10\n",
       "452720    10\n",
       "465502    10\n",
       "462752    10\n",
       "465446     9\n",
       "465489     9\n",
       "856251     9\n",
       "465407     9\n",
       "459645     9\n",
       "429839     9\n",
       "464072     8\n",
       "465464     8\n",
       "Name: dst, dtype: int64"
      ]
     },
     "execution_count": 38,
     "metadata": {},
     "output_type": "execute_result"
    }
   ],
   "source": [
    "test_csv_b_init['dst'].value_counts().head(15)"
   ]
  },
  {
   "cell_type": "markdown",
   "metadata": {},
   "source": [
    "# 2、训练集探索"
   ]
  },
  {
   "cell_type": "markdown",
   "metadata": {},
   "source": [
    "## A train -- edge_csv"
   ]
  },
  {
   "cell_type": "code",
   "execution_count": 2,
   "metadata": {},
   "outputs": [],
   "source": [
    "edge_csv_a = pd.read_csv(f'./train_csvs/edges_train_A.csv', header=None)"
   ]
  },
  {
   "cell_type": "code",
   "execution_count": 3,
   "metadata": {},
   "outputs": [
    {
     "data": {
      "text/html": [
       "<div>\n",
       "<style scoped>\n",
       "    .dataframe tbody tr th:only-of-type {\n",
       "        vertical-align: middle;\n",
       "    }\n",
       "\n",
       "    .dataframe tbody tr th {\n",
       "        vertical-align: top;\n",
       "    }\n",
       "\n",
       "    .dataframe thead th {\n",
       "        text-align: right;\n",
       "    }\n",
       "</style>\n",
       "<table border=\"1\" class=\"dataframe\">\n",
       "  <thead>\n",
       "    <tr style=\"text-align: right;\">\n",
       "      <th></th>\n",
       "      <th>0</th>\n",
       "      <th>1</th>\n",
       "      <th>2</th>\n",
       "      <th>3</th>\n",
       "    </tr>\n",
       "  </thead>\n",
       "  <tbody>\n",
       "    <tr>\n",
       "      <th>0</th>\n",
       "      <td>106</td>\n",
       "      <td>28905</td>\n",
       "      <td>96</td>\n",
       "      <td>1413662400</td>\n",
       "    </tr>\n",
       "    <tr>\n",
       "      <th>1</th>\n",
       "      <td>211</td>\n",
       "      <td>14601</td>\n",
       "      <td>32</td>\n",
       "      <td>1413662400</td>\n",
       "    </tr>\n",
       "    <tr>\n",
       "      <th>2</th>\n",
       "      <td>1355</td>\n",
       "      <td>45804</td>\n",
       "      <td>65</td>\n",
       "      <td>1413662400</td>\n",
       "    </tr>\n",
       "    <tr>\n",
       "      <th>3</th>\n",
       "      <td>2540</td>\n",
       "      <td>60948</td>\n",
       "      <td>69</td>\n",
       "      <td>1413662400</td>\n",
       "    </tr>\n",
       "    <tr>\n",
       "      <th>4</th>\n",
       "      <td>2867</td>\n",
       "      <td>28905</td>\n",
       "      <td>74</td>\n",
       "      <td>1413662400</td>\n",
       "    </tr>\n",
       "    <tr>\n",
       "      <th>...</th>\n",
       "      <td>...</td>\n",
       "      <td>...</td>\n",
       "      <td>...</td>\n",
       "      <td>...</td>\n",
       "    </tr>\n",
       "    <tr>\n",
       "      <th>27045263</th>\n",
       "      <td>69788</td>\n",
       "      <td>28905</td>\n",
       "      <td>20</td>\n",
       "      <td>1494705600</td>\n",
       "    </tr>\n",
       "    <tr>\n",
       "      <th>27045264</th>\n",
       "      <td>69788</td>\n",
       "      <td>28905</td>\n",
       "      <td>243</td>\n",
       "      <td>1494705600</td>\n",
       "    </tr>\n",
       "    <tr>\n",
       "      <th>27045265</th>\n",
       "      <td>69788</td>\n",
       "      <td>45285</td>\n",
       "      <td>36</td>\n",
       "      <td>1494705600</td>\n",
       "    </tr>\n",
       "    <tr>\n",
       "      <th>27045266</th>\n",
       "      <td>69788</td>\n",
       "      <td>61356</td>\n",
       "      <td>93</td>\n",
       "      <td>1494705600</td>\n",
       "    </tr>\n",
       "    <tr>\n",
       "      <th>27045267</th>\n",
       "      <td>69947</td>\n",
       "      <td>28905</td>\n",
       "      <td>220</td>\n",
       "      <td>1494705600</td>\n",
       "    </tr>\n",
       "  </tbody>\n",
       "</table>\n",
       "<p>27045268 rows × 4 columns</p>\n",
       "</div>"
      ],
      "text/plain": [
       "              0      1    2           3\n",
       "0           106  28905   96  1413662400\n",
       "1           211  14601   32  1413662400\n",
       "2          1355  45804   65  1413662400\n",
       "3          2540  60948   69  1413662400\n",
       "4          2867  28905   74  1413662400\n",
       "...         ...    ...  ...         ...\n",
       "27045263  69788  28905   20  1494705600\n",
       "27045264  69788  28905  243  1494705600\n",
       "27045265  69788  45285   36  1494705600\n",
       "27045266  69788  61356   93  1494705600\n",
       "27045267  69947  28905  220  1494705600\n",
       "\n",
       "[27045268 rows x 4 columns]"
      ]
     },
     "execution_count": 3,
     "metadata": {},
     "output_type": "execute_result"
    }
   ],
   "source": [
    "edge_csv_a"
   ]
  },
  {
   "cell_type": "code",
   "execution_count": 4,
   "metadata": {},
   "outputs": [
    {
     "data": {
      "text/html": [
       "<div>\n",
       "<style scoped>\n",
       "    .dataframe tbody tr th:only-of-type {\n",
       "        vertical-align: middle;\n",
       "    }\n",
       "\n",
       "    .dataframe tbody tr th {\n",
       "        vertical-align: top;\n",
       "    }\n",
       "\n",
       "    .dataframe thead th {\n",
       "        text-align: right;\n",
       "    }\n",
       "</style>\n",
       "<table border=\"1\" class=\"dataframe\">\n",
       "  <thead>\n",
       "    <tr style=\"text-align: right;\">\n",
       "      <th></th>\n",
       "      <th>3</th>\n",
       "    </tr>\n",
       "  </thead>\n",
       "  <tbody>\n",
       "    <tr>\n",
       "      <th>count</th>\n",
       "      <td>2.704527e+07</td>\n",
       "    </tr>\n",
       "    <tr>\n",
       "      <th>mean</th>\n",
       "      <td>1.452709e+09</td>\n",
       "    </tr>\n",
       "    <tr>\n",
       "      <th>std</th>\n",
       "      <td>2.326762e+07</td>\n",
       "    </tr>\n",
       "    <tr>\n",
       "      <th>min</th>\n",
       "      <td>1.413662e+09</td>\n",
       "    </tr>\n",
       "    <tr>\n",
       "      <th>25%</th>\n",
       "      <td>1.432512e+09</td>\n",
       "    </tr>\n",
       "    <tr>\n",
       "      <th>50%</th>\n",
       "      <td>1.451538e+09</td>\n",
       "    </tr>\n",
       "    <tr>\n",
       "      <th>75%</th>\n",
       "      <td>1.472648e+09</td>\n",
       "    </tr>\n",
       "    <tr>\n",
       "      <th>max</th>\n",
       "      <td>1.494706e+09</td>\n",
       "    </tr>\n",
       "  </tbody>\n",
       "</table>\n",
       "</div>"
      ],
      "text/plain": [
       "                  3\n",
       "count  2.704527e+07\n",
       "mean   1.452709e+09\n",
       "std    2.326762e+07\n",
       "min    1.413662e+09\n",
       "25%    1.432512e+09\n",
       "50%    1.451538e+09\n",
       "75%    1.472648e+09\n",
       "max    1.494706e+09"
      ]
     },
     "execution_count": 4,
     "metadata": {},
     "output_type": "execute_result"
    }
   ],
   "source": [
    "# timestamp\n",
    "time_a = edge_csv_a[[3]]\n",
    "time_a.describe()"
   ]
  },
  {
   "cell_type": "code",
   "execution_count": 6,
   "metadata": {},
   "outputs": [
    {
     "data": {
      "text/plain": [
       "74     2101539\n",
       "8      2006865\n",
       "151    1885342\n",
       "33     1606134\n",
       "20     1595066\n",
       "65     1502621\n",
       "237    1164627\n",
       "69     1096837\n",
       "198     867761\n",
       "71      838554\n",
       "Name: 2, dtype: int64"
      ]
     },
     "execution_count": 6,
     "metadata": {},
     "output_type": "execute_result"
    }
   ],
   "source": [
    "# etype\n",
    "edge_csv_a[2].value_counts().head(10)"
   ]
  },
  {
   "cell_type": "markdown",
   "metadata": {},
   "source": [
    "## A train -- node_features"
   ]
  },
  {
   "cell_type": "code",
   "execution_count": 8,
   "metadata": {},
   "outputs": [],
   "source": [
    "node_feat_csv_a = pd.read_csv('./train_csvs/node_features.csv', header=None)\n",
    "node_feat = node_feat_csv_a.values[:, 1:]"
   ]
  },
  {
   "cell_type": "code",
   "execution_count": 11,
   "metadata": {},
   "outputs": [
    {
     "data": {
      "text/plain": [
       "0.7635081267359325"
      ]
     },
     "execution_count": 11,
     "metadata": {},
     "output_type": "execute_result"
    }
   ],
   "source": [
    "# 统计node_feat中的缺失值（-1）的占比\n",
    "(node_feat == -1).sum() / (node_feat.shape[0] * node_feat.shape[1])"
   ]
  },
  {
   "cell_type": "markdown",
   "metadata": {},
   "source": [
    "## B train -- edge_csv"
   ]
  },
  {
   "cell_type": "code",
   "execution_count": 2,
   "metadata": {},
   "outputs": [
    {
     "data": {
      "text/html": [
       "<div>\n",
       "<style scoped>\n",
       "    .dataframe tbody tr th:only-of-type {\n",
       "        vertical-align: middle;\n",
       "    }\n",
       "\n",
       "    .dataframe tbody tr th {\n",
       "        vertical-align: top;\n",
       "    }\n",
       "\n",
       "    .dataframe thead th {\n",
       "        text-align: right;\n",
       "    }\n",
       "</style>\n",
       "<table border=\"1\" class=\"dataframe\">\n",
       "  <thead>\n",
       "    <tr style=\"text-align: right;\">\n",
       "      <th></th>\n",
       "      <th>0</th>\n",
       "      <th>1</th>\n",
       "      <th>2</th>\n",
       "      <th>3</th>\n",
       "      <th>4</th>\n",
       "    </tr>\n",
       "  </thead>\n",
       "  <tbody>\n",
       "    <tr>\n",
       "      <th>0</th>\n",
       "      <td>21499</td>\n",
       "      <td>21012</td>\n",
       "      <td>2</td>\n",
       "      <td>1420074012</td>\n",
       "      <td>NaN</td>\n",
       "    </tr>\n",
       "    <tr>\n",
       "      <th>1</th>\n",
       "      <td>672377</td>\n",
       "      <td>795545</td>\n",
       "      <td>12</td>\n",
       "      <td>1420074016</td>\n",
       "      <td>NaN</td>\n",
       "    </tr>\n",
       "    <tr>\n",
       "      <th>2</th>\n",
       "      <td>104556</td>\n",
       "      <td>264221</td>\n",
       "      <td>12</td>\n",
       "      <td>1420074016</td>\n",
       "      <td>NaN</td>\n",
       "    </tr>\n",
       "    <tr>\n",
       "      <th>3</th>\n",
       "      <td>653813</td>\n",
       "      <td>772791</td>\n",
       "      <td>12</td>\n",
       "      <td>1420074017</td>\n",
       "      <td>NaN</td>\n",
       "    </tr>\n",
       "    <tr>\n",
       "      <th>4</th>\n",
       "      <td>21500</td>\n",
       "      <td>21013</td>\n",
       "      <td>2</td>\n",
       "      <td>1420074021</td>\n",
       "      <td>NaN</td>\n",
       "    </tr>\n",
       "    <tr>\n",
       "      <th>...</th>\n",
       "      <td>...</td>\n",
       "      <td>...</td>\n",
       "      <td>...</td>\n",
       "      <td>...</td>\n",
       "      <td>...</td>\n",
       "    </tr>\n",
       "    <tr>\n",
       "      <th>8278426</th>\n",
       "      <td>386544</td>\n",
       "      <td>465515</td>\n",
       "      <td>2</td>\n",
       "      <td>1443628795</td>\n",
       "      <td>NaN</td>\n",
       "    </tr>\n",
       "    <tr>\n",
       "      <th>8278427</th>\n",
       "      <td>238097</td>\n",
       "      <td>446963</td>\n",
       "      <td>12</td>\n",
       "      <td>1443628798</td>\n",
       "      <td>NaN</td>\n",
       "    </tr>\n",
       "    <tr>\n",
       "      <th>8278428</th>\n",
       "      <td>343979</td>\n",
       "      <td>409898</td>\n",
       "      <td>2</td>\n",
       "      <td>1443628799</td>\n",
       "      <td>NaN</td>\n",
       "    </tr>\n",
       "    <tr>\n",
       "      <th>8278429</th>\n",
       "      <td>376663</td>\n",
       "      <td>452473</td>\n",
       "      <td>12</td>\n",
       "      <td>1443628799</td>\n",
       "      <td>NaN</td>\n",
       "    </tr>\n",
       "    <tr>\n",
       "      <th>8278430</th>\n",
       "      <td>44492</td>\n",
       "      <td>452006</td>\n",
       "      <td>12</td>\n",
       "      <td>1443628799</td>\n",
       "      <td>NaN</td>\n",
       "    </tr>\n",
       "  </tbody>\n",
       "</table>\n",
       "<p>8278431 rows × 5 columns</p>\n",
       "</div>"
      ],
      "text/plain": [
       "              0       1   2           3    4\n",
       "0         21499   21012   2  1420074012  NaN\n",
       "1        672377  795545  12  1420074016  NaN\n",
       "2        104556  264221  12  1420074016  NaN\n",
       "3        653813  772791  12  1420074017  NaN\n",
       "4         21500   21013   2  1420074021  NaN\n",
       "...         ...     ...  ..         ...  ...\n",
       "8278426  386544  465515   2  1443628795  NaN\n",
       "8278427  238097  446963  12  1443628798  NaN\n",
       "8278428  343979  409898   2  1443628799  NaN\n",
       "8278429  376663  452473  12  1443628799  NaN\n",
       "8278430   44492  452006  12  1443628799  NaN\n",
       "\n",
       "[8278431 rows x 5 columns]"
      ]
     },
     "execution_count": 2,
     "metadata": {},
     "output_type": "execute_result"
    }
   ],
   "source": [
    "edge_csv_b = pd.read_csv(f'./train_csvs/edges_train_B.csv', header=None)\n",
    "edge_csv_b"
   ]
  },
  {
   "cell_type": "code",
   "execution_count": 3,
   "metadata": {},
   "outputs": [
    {
     "data": {
      "text/html": [
       "<div>\n",
       "<style scoped>\n",
       "    .dataframe tbody tr th:only-of-type {\n",
       "        vertical-align: middle;\n",
       "    }\n",
       "\n",
       "    .dataframe tbody tr th {\n",
       "        vertical-align: top;\n",
       "    }\n",
       "\n",
       "    .dataframe thead th {\n",
       "        text-align: right;\n",
       "    }\n",
       "</style>\n",
       "<table border=\"1\" class=\"dataframe\">\n",
       "  <thead>\n",
       "    <tr style=\"text-align: right;\">\n",
       "      <th></th>\n",
       "      <th>3</th>\n",
       "    </tr>\n",
       "  </thead>\n",
       "  <tbody>\n",
       "    <tr>\n",
       "      <th>count</th>\n",
       "      <td>8.278431e+06</td>\n",
       "    </tr>\n",
       "    <tr>\n",
       "      <th>mean</th>\n",
       "      <td>1.432215e+09</td>\n",
       "    </tr>\n",
       "    <tr>\n",
       "      <th>std</th>\n",
       "      <td>6.755162e+06</td>\n",
       "    </tr>\n",
       "    <tr>\n",
       "      <th>min</th>\n",
       "      <td>1.420074e+09</td>\n",
       "    </tr>\n",
       "    <tr>\n",
       "      <th>25%</th>\n",
       "      <td>1.426519e+09</td>\n",
       "    </tr>\n",
       "    <tr>\n",
       "      <th>50%</th>\n",
       "      <td>1.432187e+09</td>\n",
       "    </tr>\n",
       "    <tr>\n",
       "      <th>75%</th>\n",
       "      <td>1.438099e+09</td>\n",
       "    </tr>\n",
       "    <tr>\n",
       "      <th>max</th>\n",
       "      <td>1.443629e+09</td>\n",
       "    </tr>\n",
       "  </tbody>\n",
       "</table>\n",
       "</div>"
      ],
      "text/plain": [
       "                  3\n",
       "count  8.278431e+06\n",
       "mean   1.432215e+09\n",
       "std    6.755162e+06\n",
       "min    1.420074e+09\n",
       "25%    1.426519e+09\n",
       "50%    1.432187e+09\n",
       "75%    1.438099e+09\n",
       "max    1.443629e+09"
      ]
     },
     "execution_count": 3,
     "metadata": {},
     "output_type": "execute_result"
    }
   ],
   "source": [
    "edge_csv_b[[3]].describe()"
   ]
  },
  {
   "cell_type": "code",
   "execution_count": 4,
   "metadata": {},
   "outputs": [
    {
     "data": {
      "text/plain": [
       "12    5836685\n",
       "2     1150475\n",
       "10     262354\n",
       "14     242573\n",
       "4      194951\n",
       "7      139704\n",
       "3      118502\n",
       "8      111231\n",
       "6       88965\n",
       "5       64275\n",
       "1       29457\n",
       "13      25680\n",
       "9        7524\n",
       "11       6055\n",
       "Name: 2, dtype: int64"
      ]
     },
     "execution_count": 4,
     "metadata": {},
     "output_type": "execute_result"
    }
   ],
   "source": [
    "edge_csv_b[2].value_counts()"
   ]
  },
  {
   "cell_type": "code",
   "execution_count": 5,
   "metadata": {},
   "outputs": [],
   "source": [
    "def extract_edge_feature(records):\n",
    "    feat = torch.FloatTensor(np.array(list(map(lambda x: x.strip().split(','), records))).astype('float'))\n",
    "    return feat"
   ]
  },
  {
   "cell_type": "code",
   "execution_count": 7,
   "metadata": {},
   "outputs": [
    {
     "name": "stdout",
     "output_type": "stream",
     "text": [
      "0.5714285714285714\n"
     ]
    }
   ],
   "source": [
    "src_type = 'User'\n",
    "dst_type = 'Item'\n",
    "\n",
    "heterogenous_group = edge_csv_b.groupby(2)\n",
    "\n",
    "etype_feat = None\n",
    "feat_dim = 768\n",
    "\n",
    "# Assign Edge Feature\n",
    "cnt = 0\n",
    "total = 0\n",
    "for event_type, records in heterogenous_group:\n",
    "    event_type = str(event_type)\n",
    "    etype = (src_type, event_type, dst_type)\n",
    "    total += 1\n",
    "    if len(str(records[4].iloc[0])) > 3:\n",
    "        continue\n",
    "    else:\n",
    "        cnt += 1  # nan\n",
    "\n",
    "# 边特征的缺失(nan)占比\n",
    "print(float(cnt) / total)"
   ]
  },
  {
   "cell_type": "code",
   "execution_count": null,
   "metadata": {},
   "outputs": [],
   "source": []
  }
 ],
 "metadata": {
  "interpreter": {
   "hash": "7d6e9f8b297c76fb07a0d121ca94fd696bee4f63bd4011f44f51b92fd8c25d8a"
  },
  "kernelspec": {
   "display_name": "Python 3.7.11 64-bit ('env_pyg2': conda)",
   "language": "python",
   "name": "python3"
  },
  "language_info": {
   "codemirror_mode": {
    "name": "ipython",
    "version": 3
   },
   "file_extension": ".py",
   "mimetype": "text/x-python",
   "name": "python",
   "nbconvert_exporter": "python",
   "pygments_lexer": "ipython3",
   "version": "3.7.11"
  },
  "orig_nbformat": 4
 },
 "nbformat": 4,
 "nbformat_minor": 2
}
