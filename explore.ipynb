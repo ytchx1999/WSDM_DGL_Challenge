{
 "cells": [
  {
   "cell_type": "code",
   "execution_count": 1,
   "metadata": {},
   "outputs": [
    {
     "name": "stderr",
     "output_type": "stream",
     "text": [
      "Using backend: pytorch\n"
     ]
    }
   ],
   "source": [
    "import torch\n",
    "import dgl\n",
    "import pandas as pd\n",
    "import numpy as np"
   ]
  },
  {
   "cell_type": "markdown",
   "metadata": {},
   "source": [
    "# 1、测试接 test 探索"
   ]
  },
  {
   "cell_type": "markdown",
   "metadata": {},
   "source": [
    "## middle test A 探索"
   ]
  },
  {
   "cell_type": "code",
   "execution_count": 2,
   "metadata": {},
   "outputs": [],
   "source": [
    "test_csv_a = pd.read_csv('./test_csvs/input_A.csv', names=['src', 'dst', 'type', 'start_at', 'end_at'])\n",
    "# label = test_csv.exist.values\n",
    "etype = test_csv_a.type.values\n",
    "src = test_csv_a.src.values\n",
    "dst = test_csv_a.dst.values\n",
    "start_at = torch.tensor(test_csv_a.start_at.values)\n",
    "end_at = torch.tensor(test_csv_a.end_at.values)"
   ]
  },
  {
   "cell_type": "code",
   "execution_count": 3,
   "metadata": {},
   "outputs": [
    {
     "data": {
      "text/html": [
       "<div>\n",
       "<style scoped>\n",
       "    .dataframe tbody tr th:only-of-type {\n",
       "        vertical-align: middle;\n",
       "    }\n",
       "\n",
       "    .dataframe tbody tr th {\n",
       "        vertical-align: top;\n",
       "    }\n",
       "\n",
       "    .dataframe thead th {\n",
       "        text-align: right;\n",
       "    }\n",
       "</style>\n",
       "<table border=\"1\" class=\"dataframe\">\n",
       "  <thead>\n",
       "    <tr style=\"text-align: right;\">\n",
       "      <th></th>\n",
       "      <th>src</th>\n",
       "      <th>dst</th>\n",
       "      <th>type</th>\n",
       "      <th>start_at</th>\n",
       "      <th>end_at</th>\n",
       "    </tr>\n",
       "  </thead>\n",
       "  <tbody>\n",
       "    <tr>\n",
       "      <th>0</th>\n",
       "      <td>19</td>\n",
       "      <td>6486</td>\n",
       "      <td>74</td>\n",
       "      <td>1496093495</td>\n",
       "      <td>1496282477</td>\n",
       "    </tr>\n",
       "    <tr>\n",
       "      <th>1</th>\n",
       "      <td>19</td>\n",
       "      <td>11021</td>\n",
       "      <td>116</td>\n",
       "      <td>1497524067</td>\n",
       "      <td>1497720574</td>\n",
       "    </tr>\n",
       "    <tr>\n",
       "      <th>2</th>\n",
       "      <td>19</td>\n",
       "      <td>28905</td>\n",
       "      <td>245</td>\n",
       "      <td>1497371665</td>\n",
       "      <td>1497538710</td>\n",
       "    </tr>\n",
       "    <tr>\n",
       "      <th>3</th>\n",
       "      <td>19</td>\n",
       "      <td>32125</td>\n",
       "      <td>178</td>\n",
       "      <td>1497432877</td>\n",
       "      <td>1497633034</td>\n",
       "    </tr>\n",
       "    <tr>\n",
       "      <th>4</th>\n",
       "      <td>19</td>\n",
       "      <td>44465</td>\n",
       "      <td>149</td>\n",
       "      <td>1495823478</td>\n",
       "      <td>1495989884</td>\n",
       "    </tr>\n",
       "    <tr>\n",
       "      <th>...</th>\n",
       "      <td>...</td>\n",
       "      <td>...</td>\n",
       "      <td>...</td>\n",
       "      <td>...</td>\n",
       "      <td>...</td>\n",
       "    </tr>\n",
       "    <tr>\n",
       "      <th>49898</th>\n",
       "      <td>69948</td>\n",
       "      <td>28905</td>\n",
       "      <td>238</td>\n",
       "      <td>1494817089</td>\n",
       "      <td>1495000626</td>\n",
       "    </tr>\n",
       "    <tr>\n",
       "      <th>49899</th>\n",
       "      <td>69948</td>\n",
       "      <td>45285</td>\n",
       "      <td>220</td>\n",
       "      <td>1495740412</td>\n",
       "      <td>1495906305</td>\n",
       "    </tr>\n",
       "    <tr>\n",
       "      <th>49900</th>\n",
       "      <td>69961</td>\n",
       "      <td>20816</td>\n",
       "      <td>78</td>\n",
       "      <td>1496748482</td>\n",
       "      <td>1496986910</td>\n",
       "    </tr>\n",
       "    <tr>\n",
       "      <th>49901</th>\n",
       "      <td>69961</td>\n",
       "      <td>33045</td>\n",
       "      <td>20</td>\n",
       "      <td>1497511922</td>\n",
       "      <td>1497656626</td>\n",
       "    </tr>\n",
       "    <tr>\n",
       "      <th>49902</th>\n",
       "      <td>69971</td>\n",
       "      <td>47676</td>\n",
       "      <td>65</td>\n",
       "      <td>1497345133</td>\n",
       "      <td>1497569438</td>\n",
       "    </tr>\n",
       "  </tbody>\n",
       "</table>\n",
       "<p>49903 rows × 5 columns</p>\n",
       "</div>"
      ],
      "text/plain": [
       "         src    dst  type    start_at      end_at\n",
       "0         19   6486    74  1496093495  1496282477\n",
       "1         19  11021   116  1497524067  1497720574\n",
       "2         19  28905   245  1497371665  1497538710\n",
       "3         19  32125   178  1497432877  1497633034\n",
       "4         19  44465   149  1495823478  1495989884\n",
       "...      ...    ...   ...         ...         ...\n",
       "49898  69948  28905   238  1494817089  1495000626\n",
       "49899  69948  45285   220  1495740412  1495906305\n",
       "49900  69961  20816    78  1496748482  1496986910\n",
       "49901  69961  33045    20  1497511922  1497656626\n",
       "49902  69971  47676    65  1497345133  1497569438\n",
       "\n",
       "[49903 rows x 5 columns]"
      ]
     },
     "execution_count": 3,
     "metadata": {},
     "output_type": "execute_result"
    }
   ],
   "source": [
    "test_csv_a"
   ]
  },
  {
   "cell_type": "code",
   "execution_count": 4,
   "metadata": {},
   "outputs": [
    {
     "data": {
      "text/plain": [
       "74     3894\n",
       "8      3698\n",
       "151    3496\n",
       "33     3030\n",
       "20     2901\n",
       "65     2737\n",
       "69     1925\n",
       "237    1916\n",
       "198    1734\n",
       "71     1527\n",
       "Name: type, dtype: int64"
      ]
     },
     "execution_count": 4,
     "metadata": {},
     "output_type": "execute_result"
    }
   ],
   "source": [
    "test_csv_a['type'].value_counts().head(10)"
   ]
  },
  {
   "cell_type": "code",
   "execution_count": 5,
   "metadata": {},
   "outputs": [
    {
     "data": {
      "text/html": [
       "<div>\n",
       "<style scoped>\n",
       "    .dataframe tbody tr th:only-of-type {\n",
       "        vertical-align: middle;\n",
       "    }\n",
       "\n",
       "    .dataframe tbody tr th {\n",
       "        vertical-align: top;\n",
       "    }\n",
       "\n",
       "    .dataframe thead th {\n",
       "        text-align: right;\n",
       "    }\n",
       "</style>\n",
       "<table border=\"1\" class=\"dataframe\">\n",
       "  <thead>\n",
       "    <tr style=\"text-align: right;\">\n",
       "      <th></th>\n",
       "      <th>start_at</th>\n",
       "    </tr>\n",
       "  </thead>\n",
       "  <tbody>\n",
       "    <tr>\n",
       "      <th>count</th>\n",
       "      <td>4.990300e+04</td>\n",
       "    </tr>\n",
       "    <tr>\n",
       "      <th>mean</th>\n",
       "      <td>1.496789e+09</td>\n",
       "    </tr>\n",
       "    <tr>\n",
       "      <th>std</th>\n",
       "      <td>1.236224e+06</td>\n",
       "    </tr>\n",
       "    <tr>\n",
       "      <th>min</th>\n",
       "      <td>1.494585e+09</td>\n",
       "    </tr>\n",
       "    <tr>\n",
       "      <th>25%</th>\n",
       "      <td>1.495702e+09</td>\n",
       "    </tr>\n",
       "    <tr>\n",
       "      <th>50%</th>\n",
       "      <td>1.496787e+09</td>\n",
       "    </tr>\n",
       "    <tr>\n",
       "      <th>75%</th>\n",
       "      <td>1.497887e+09</td>\n",
       "    </tr>\n",
       "    <tr>\n",
       "      <th>max</th>\n",
       "      <td>1.498943e+09</td>\n",
       "    </tr>\n",
       "  </tbody>\n",
       "</table>\n",
       "</div>"
      ],
      "text/plain": [
       "           start_at\n",
       "count  4.990300e+04\n",
       "mean   1.496789e+09\n",
       "std    1.236224e+06\n",
       "min    1.494585e+09\n",
       "25%    1.495702e+09\n",
       "50%    1.496787e+09\n",
       "75%    1.497887e+09\n",
       "max    1.498943e+09"
      ]
     },
     "execution_count": 5,
     "metadata": {},
     "output_type": "execute_result"
    }
   ],
   "source": [
    "test_csv_a[['start_at']].describe()"
   ]
  },
  {
   "cell_type": "code",
   "execution_count": 6,
   "metadata": {},
   "outputs": [
    {
     "data": {
      "text/html": [
       "<div>\n",
       "<style scoped>\n",
       "    .dataframe tbody tr th:only-of-type {\n",
       "        vertical-align: middle;\n",
       "    }\n",
       "\n",
       "    .dataframe tbody tr th {\n",
       "        vertical-align: top;\n",
       "    }\n",
       "\n",
       "    .dataframe thead th {\n",
       "        text-align: right;\n",
       "    }\n",
       "</style>\n",
       "<table border=\"1\" class=\"dataframe\">\n",
       "  <thead>\n",
       "    <tr style=\"text-align: right;\">\n",
       "      <th></th>\n",
       "      <th>end_at</th>\n",
       "    </tr>\n",
       "  </thead>\n",
       "  <tbody>\n",
       "    <tr>\n",
       "      <th>count</th>\n",
       "      <td>4.990300e+04</td>\n",
       "    </tr>\n",
       "    <tr>\n",
       "      <th>mean</th>\n",
       "      <td>1.496962e+09</td>\n",
       "    </tr>\n",
       "    <tr>\n",
       "      <th>std</th>\n",
       "      <td>1.236422e+06</td>\n",
       "    </tr>\n",
       "    <tr>\n",
       "      <th>min</th>\n",
       "      <td>1.494761e+09</td>\n",
       "    </tr>\n",
       "    <tr>\n",
       "      <th>25%</th>\n",
       "      <td>1.495875e+09</td>\n",
       "    </tr>\n",
       "    <tr>\n",
       "      <th>50%</th>\n",
       "      <td>1.496959e+09</td>\n",
       "    </tr>\n",
       "    <tr>\n",
       "      <th>75%</th>\n",
       "      <td>1.498061e+09</td>\n",
       "    </tr>\n",
       "    <tr>\n",
       "      <th>max</th>\n",
       "      <td>1.499121e+09</td>\n",
       "    </tr>\n",
       "  </tbody>\n",
       "</table>\n",
       "</div>"
      ],
      "text/plain": [
       "             end_at\n",
       "count  4.990300e+04\n",
       "mean   1.496962e+09\n",
       "std    1.236422e+06\n",
       "min    1.494761e+09\n",
       "25%    1.495875e+09\n",
       "50%    1.496959e+09\n",
       "75%    1.498061e+09\n",
       "max    1.499121e+09"
      ]
     },
     "execution_count": 6,
     "metadata": {},
     "output_type": "execute_result"
    }
   ],
   "source": [
    "test_csv_a[['end_at']].describe()"
   ]
  },
  {
   "cell_type": "code",
   "execution_count": 7,
   "metadata": {},
   "outputs": [
    {
     "data": {
      "text/plain": [
       "0        188982\n",
       "1        196507\n",
       "2        167045\n",
       "3        200157\n",
       "4        166406\n",
       "          ...  \n",
       "49898    183537\n",
       "49899    165893\n",
       "49900    238428\n",
       "49901    144704\n",
       "49902    224305\n",
       "Length: 49903, dtype: int64"
      ]
     },
     "execution_count": 7,
     "metadata": {},
     "output_type": "execute_result"
    }
   ],
   "source": [
    "test_csv_a['end_at'] - test_csv_a['start_at']"
   ]
  },
  {
   "cell_type": "code",
   "execution_count": 8,
   "metadata": {},
   "outputs": [
    {
     "data": {
      "text/plain": [
       "28905    4892\n",
       "45285    3564\n",
       "64560     907\n",
       "60642     898\n",
       "39520     657\n",
       "45915     623\n",
       "23185     480\n",
       "26464     439\n",
       "69788     427\n",
       "29828     407\n",
       "Name: src, dtype: int64"
      ]
     },
     "execution_count": 8,
     "metadata": {},
     "output_type": "execute_result"
    }
   ],
   "source": [
    "test_csv_a['src'].value_counts().head(10)"
   ]
  },
  {
   "cell_type": "code",
   "execution_count": 9,
   "metadata": {},
   "outputs": [
    {
     "data": {
      "text/plain": [
       "28905    13508\n",
       "45285     2720\n",
       "45915      635\n",
       "60642      620\n",
       "64560      580\n",
       "39520      503\n",
       "26464      481\n",
       "23185      397\n",
       "29828      359\n",
       "27718      343\n",
       "Name: dst, dtype: int64"
      ]
     },
     "execution_count": 9,
     "metadata": {},
     "output_type": "execute_result"
    }
   ],
   "source": [
    "test_csv_a['dst'].value_counts().head(10)"
   ]
  },
  {
   "cell_type": "markdown",
   "metadata": {},
   "source": [
    "## initial test A 探索"
   ]
  },
  {
   "cell_type": "code",
   "execution_count": 10,
   "metadata": {},
   "outputs": [],
   "source": [
    "test_csv_a_init = pd.read_csv('./test_csvs/input_A_initial.csv', names=['src', 'dst', 'type', 'start_at', 'end_at', 'exist'])\n",
    "label = test_csv_a_init.exist.values\n",
    "etype = test_csv_a_init.type.values\n",
    "src = test_csv_a_init.src.values\n",
    "dst = test_csv_a_init.dst.values\n",
    "start_at = torch.tensor(test_csv_a_init.start_at.values)\n",
    "end_at = torch.tensor(test_csv_a_init.end_at.values)"
   ]
  },
  {
   "cell_type": "code",
   "execution_count": 11,
   "metadata": {},
   "outputs": [
    {
     "data": {
      "text/html": [
       "<div>\n",
       "<style scoped>\n",
       "    .dataframe tbody tr th:only-of-type {\n",
       "        vertical-align: middle;\n",
       "    }\n",
       "\n",
       "    .dataframe tbody tr th {\n",
       "        vertical-align: top;\n",
       "    }\n",
       "\n",
       "    .dataframe thead th {\n",
       "        text-align: right;\n",
       "    }\n",
       "</style>\n",
       "<table border=\"1\" class=\"dataframe\">\n",
       "  <thead>\n",
       "    <tr style=\"text-align: right;\">\n",
       "      <th></th>\n",
       "      <th>src</th>\n",
       "      <th>dst</th>\n",
       "      <th>type</th>\n",
       "      <th>start_at</th>\n",
       "      <th>end_at</th>\n",
       "      <th>exist</th>\n",
       "    </tr>\n",
       "  </thead>\n",
       "  <tbody>\n",
       "    <tr>\n",
       "      <th>0</th>\n",
       "      <td>30</td>\n",
       "      <td>48382</td>\n",
       "      <td>151</td>\n",
       "      <td>1494663180</td>\n",
       "      <td>1494794383</td>\n",
       "      <td>1</td>\n",
       "    </tr>\n",
       "    <tr>\n",
       "      <th>1</th>\n",
       "      <td>106</td>\n",
       "      <td>8540</td>\n",
       "      <td>78</td>\n",
       "      <td>1494635755</td>\n",
       "      <td>1494835958</td>\n",
       "      <td>1</td>\n",
       "    </tr>\n",
       "    <tr>\n",
       "      <th>2</th>\n",
       "      <td>106</td>\n",
       "      <td>8540</td>\n",
       "      <td>149</td>\n",
       "      <td>1498383835</td>\n",
       "      <td>1498499059</td>\n",
       "      <td>0</td>\n",
       "    </tr>\n",
       "    <tr>\n",
       "      <th>3</th>\n",
       "      <td>106</td>\n",
       "      <td>20816</td>\n",
       "      <td>65</td>\n",
       "      <td>1494661105</td>\n",
       "      <td>1494827593</td>\n",
       "      <td>1</td>\n",
       "    </tr>\n",
       "    <tr>\n",
       "      <th>4</th>\n",
       "      <td>106</td>\n",
       "      <td>28905</td>\n",
       "      <td>19</td>\n",
       "      <td>1494634666</td>\n",
       "      <td>1494767554</td>\n",
       "      <td>1</td>\n",
       "    </tr>\n",
       "    <tr>\n",
       "      <th>...</th>\n",
       "      <td>...</td>\n",
       "      <td>...</td>\n",
       "      <td>...</td>\n",
       "      <td>...</td>\n",
       "      <td>...</td>\n",
       "      <td>...</td>\n",
       "    </tr>\n",
       "    <tr>\n",
       "      <th>8192</th>\n",
       "      <td>23185</td>\n",
       "      <td>28905</td>\n",
       "      <td>237</td>\n",
       "      <td>1497538902</td>\n",
       "      <td>1497709881</td>\n",
       "      <td>0</td>\n",
       "    </tr>\n",
       "    <tr>\n",
       "      <th>8193</th>\n",
       "      <td>23185</td>\n",
       "      <td>30931</td>\n",
       "      <td>74</td>\n",
       "      <td>1494589260</td>\n",
       "      <td>1494820486</td>\n",
       "      <td>1</td>\n",
       "    </tr>\n",
       "    <tr>\n",
       "      <th>8194</th>\n",
       "      <td>23185</td>\n",
       "      <td>28905</td>\n",
       "      <td>33</td>\n",
       "      <td>1495374710</td>\n",
       "      <td>1495526854</td>\n",
       "      <td>0</td>\n",
       "    </tr>\n",
       "    <tr>\n",
       "      <th>8195</th>\n",
       "      <td>23185</td>\n",
       "      <td>52793</td>\n",
       "      <td>74</td>\n",
       "      <td>1495492292</td>\n",
       "      <td>1495750711</td>\n",
       "      <td>0</td>\n",
       "    </tr>\n",
       "    <tr>\n",
       "      <th>8196</th>\n",
       "      <td>23185</td>\n",
       "      <td>45285</td>\n",
       "      <td>137</td>\n",
       "      <td>1494590040</td>\n",
       "      <td>1494778930</td>\n",
       "      <td>1</td>\n",
       "    </tr>\n",
       "  </tbody>\n",
       "</table>\n",
       "<p>8197 rows × 6 columns</p>\n",
       "</div>"
      ],
      "text/plain": [
       "        src    dst  type    start_at      end_at  exist\n",
       "0        30  48382   151  1494663180  1494794383      1\n",
       "1       106   8540    78  1494635755  1494835958      1\n",
       "2       106   8540   149  1498383835  1498499059      0\n",
       "3       106  20816    65  1494661105  1494827593      1\n",
       "4       106  28905    19  1494634666  1494767554      1\n",
       "...     ...    ...   ...         ...         ...    ...\n",
       "8192  23185  28905   237  1497538902  1497709881      0\n",
       "8193  23185  30931    74  1494589260  1494820486      1\n",
       "8194  23185  28905    33  1495374710  1495526854      0\n",
       "8195  23185  52793    74  1495492292  1495750711      0\n",
       "8196  23185  45285   137  1494590040  1494778930      1\n",
       "\n",
       "[8197 rows x 6 columns]"
      ]
     },
     "execution_count": 11,
     "metadata": {},
     "output_type": "execute_result"
    }
   ],
   "source": [
    "test_csv_a_init"
   ]
  },
  {
   "cell_type": "code",
   "execution_count": 12,
   "metadata": {},
   "outputs": [
    {
     "data": {
      "text/plain": [
       "74     665\n",
       "151    575\n",
       "8      564\n",
       "33     530\n",
       "20     489\n",
       "198    418\n",
       "237    379\n",
       "65     372\n",
       "69     327\n",
       "71     224\n",
       "Name: type, dtype: int64"
      ]
     },
     "execution_count": 12,
     "metadata": {},
     "output_type": "execute_result"
    }
   ],
   "source": [
    "test_csv_a_init['type'].value_counts().head(10)"
   ]
  },
  {
   "cell_type": "code",
   "execution_count": 13,
   "metadata": {},
   "outputs": [
    {
     "data": {
      "text/html": [
       "<div>\n",
       "<style scoped>\n",
       "    .dataframe tbody tr th:only-of-type {\n",
       "        vertical-align: middle;\n",
       "    }\n",
       "\n",
       "    .dataframe tbody tr th {\n",
       "        vertical-align: top;\n",
       "    }\n",
       "\n",
       "    .dataframe thead th {\n",
       "        text-align: right;\n",
       "    }\n",
       "</style>\n",
       "<table border=\"1\" class=\"dataframe\">\n",
       "  <thead>\n",
       "    <tr style=\"text-align: right;\">\n",
       "      <th></th>\n",
       "      <th>start_at</th>\n",
       "    </tr>\n",
       "  </thead>\n",
       "  <tbody>\n",
       "    <tr>\n",
       "      <th>count</th>\n",
       "      <td>8.197000e+03</td>\n",
       "    </tr>\n",
       "    <tr>\n",
       "      <th>mean</th>\n",
       "      <td>1.495472e+09</td>\n",
       "    </tr>\n",
       "    <tr>\n",
       "      <th>std</th>\n",
       "      <td>1.293861e+06</td>\n",
       "    </tr>\n",
       "    <tr>\n",
       "      <th>min</th>\n",
       "      <td>1.494580e+09</td>\n",
       "    </tr>\n",
       "    <tr>\n",
       "      <th>25%</th>\n",
       "      <td>1.494617e+09</td>\n",
       "    </tr>\n",
       "    <tr>\n",
       "      <th>50%</th>\n",
       "      <td>1.494653e+09</td>\n",
       "    </tr>\n",
       "    <tr>\n",
       "      <th>75%</th>\n",
       "      <td>1.496200e+09</td>\n",
       "    </tr>\n",
       "    <tr>\n",
       "      <th>max</th>\n",
       "      <td>1.498946e+09</td>\n",
       "    </tr>\n",
       "  </tbody>\n",
       "</table>\n",
       "</div>"
      ],
      "text/plain": [
       "           start_at\n",
       "count  8.197000e+03\n",
       "mean   1.495472e+09\n",
       "std    1.293861e+06\n",
       "min    1.494580e+09\n",
       "25%    1.494617e+09\n",
       "50%    1.494653e+09\n",
       "75%    1.496200e+09\n",
       "max    1.498946e+09"
      ]
     },
     "execution_count": 13,
     "metadata": {},
     "output_type": "execute_result"
    }
   ],
   "source": [
    "test_csv_a_init[['start_at']].describe()"
   ]
  },
  {
   "cell_type": "code",
   "execution_count": 14,
   "metadata": {},
   "outputs": [
    {
     "data": {
      "text/html": [
       "<div>\n",
       "<style scoped>\n",
       "    .dataframe tbody tr th:only-of-type {\n",
       "        vertical-align: middle;\n",
       "    }\n",
       "\n",
       "    .dataframe tbody tr th {\n",
       "        vertical-align: top;\n",
       "    }\n",
       "\n",
       "    .dataframe thead th {\n",
       "        text-align: right;\n",
       "    }\n",
       "</style>\n",
       "<table border=\"1\" class=\"dataframe\">\n",
       "  <thead>\n",
       "    <tr style=\"text-align: right;\">\n",
       "      <th></th>\n",
       "      <th>end_at</th>\n",
       "    </tr>\n",
       "  </thead>\n",
       "  <tbody>\n",
       "    <tr>\n",
       "      <th>count</th>\n",
       "      <td>8.197000e+03</td>\n",
       "    </tr>\n",
       "    <tr>\n",
       "      <th>mean</th>\n",
       "      <td>1.495645e+09</td>\n",
       "    </tr>\n",
       "    <tr>\n",
       "      <th>std</th>\n",
       "      <td>1.294181e+06</td>\n",
       "    </tr>\n",
       "    <tr>\n",
       "      <th>min</th>\n",
       "      <td>1.494752e+09</td>\n",
       "    </tr>\n",
       "    <tr>\n",
       "      <th>25%</th>\n",
       "      <td>1.494789e+09</td>\n",
       "    </tr>\n",
       "    <tr>\n",
       "      <th>50%</th>\n",
       "      <td>1.494826e+09</td>\n",
       "    </tr>\n",
       "    <tr>\n",
       "      <th>75%</th>\n",
       "      <td>1.496374e+09</td>\n",
       "    </tr>\n",
       "    <tr>\n",
       "      <th>max</th>\n",
       "      <td>1.499109e+09</td>\n",
       "    </tr>\n",
       "  </tbody>\n",
       "</table>\n",
       "</div>"
      ],
      "text/plain": [
       "             end_at\n",
       "count  8.197000e+03\n",
       "mean   1.495645e+09\n",
       "std    1.294181e+06\n",
       "min    1.494752e+09\n",
       "25%    1.494789e+09\n",
       "50%    1.494826e+09\n",
       "75%    1.496374e+09\n",
       "max    1.499109e+09"
      ]
     },
     "execution_count": 14,
     "metadata": {},
     "output_type": "execute_result"
    }
   ],
   "source": [
    "test_csv_a_init[['end_at']].describe()"
   ]
  },
  {
   "cell_type": "code",
   "execution_count": 15,
   "metadata": {},
   "outputs": [
    {
     "data": {
      "text/plain": [
       "28905    755\n",
       "45285    544\n",
       "64560    164\n",
       "60642    134\n",
       "23185    132\n",
       "20816    101\n",
       "30055     93\n",
       "39520     88\n",
       "45915     81\n",
       "24861     70\n",
       "Name: src, dtype: int64"
      ]
     },
     "execution_count": 15,
     "metadata": {},
     "output_type": "execute_result"
    }
   ],
   "source": [
    "test_csv_a_init['src'].value_counts().head(10)"
   ]
  },
  {
   "cell_type": "code",
   "execution_count": 16,
   "metadata": {},
   "outputs": [
    {
     "data": {
      "text/plain": [
       "28905    1966\n",
       "45285     457\n",
       "60642     108\n",
       "23185      92\n",
       "64560      87\n",
       "39520      87\n",
       "45915      80\n",
       "26464      59\n",
       "69788      54\n",
       "20816      52\n",
       "Name: dst, dtype: int64"
      ]
     },
     "execution_count": 16,
     "metadata": {},
     "output_type": "execute_result"
    }
   ],
   "source": [
    "test_csv_a_init['dst'].value_counts().head(10)"
   ]
  },
  {
   "cell_type": "markdown",
   "metadata": {},
   "source": [
    "## middle test B 探索"
   ]
  },
  {
   "cell_type": "code",
   "execution_count": 17,
   "metadata": {},
   "outputs": [],
   "source": [
    "test_csv_b = pd.read_csv('./test_csvs/input_B.csv', names=['src', 'dst', 'type', 'start_at', 'end_at'])\n",
    "# label = test_csv.exist.values\n",
    "etype = test_csv_b.type.values\n",
    "src = test_csv_b.src.values\n",
    "dst = test_csv_b.dst.values\n",
    "start_at = torch.tensor(test_csv_b.start_at.values)\n",
    "end_at = torch.tensor(test_csv_b.end_at.values)"
   ]
  },
  {
   "cell_type": "code",
   "execution_count": 18,
   "metadata": {},
   "outputs": [
    {
     "data": {
      "text/html": [
       "<div>\n",
       "<style scoped>\n",
       "    .dataframe tbody tr th:only-of-type {\n",
       "        vertical-align: middle;\n",
       "    }\n",
       "\n",
       "    .dataframe tbody tr th {\n",
       "        vertical-align: top;\n",
       "    }\n",
       "\n",
       "    .dataframe thead th {\n",
       "        text-align: right;\n",
       "    }\n",
       "</style>\n",
       "<table border=\"1\" class=\"dataframe\">\n",
       "  <thead>\n",
       "    <tr style=\"text-align: right;\">\n",
       "      <th></th>\n",
       "      <th>src</th>\n",
       "      <th>dst</th>\n",
       "      <th>type</th>\n",
       "      <th>start_at</th>\n",
       "      <th>end_at</th>\n",
       "    </tr>\n",
       "  </thead>\n",
       "  <tbody>\n",
       "    <tr>\n",
       "      <th>0</th>\n",
       "      <td>35</td>\n",
       "      <td>261819</td>\n",
       "      <td>12</td>\n",
       "      <td>1450279885</td>\n",
       "      <td>1450349077</td>\n",
       "    </tr>\n",
       "    <tr>\n",
       "      <th>1</th>\n",
       "      <td>37</td>\n",
       "      <td>561438</td>\n",
       "      <td>12</td>\n",
       "      <td>1447564289</td>\n",
       "      <td>1447669795</td>\n",
       "    </tr>\n",
       "    <tr>\n",
       "      <th>2</th>\n",
       "      <td>48</td>\n",
       "      <td>139003</td>\n",
       "      <td>12</td>\n",
       "      <td>1444784010</td>\n",
       "      <td>1444900992</td>\n",
       "    </tr>\n",
       "    <tr>\n",
       "      <th>3</th>\n",
       "      <td>73</td>\n",
       "      <td>68</td>\n",
       "      <td>2</td>\n",
       "      <td>1450432283</td>\n",
       "      <td>1450565346</td>\n",
       "    </tr>\n",
       "    <tr>\n",
       "      <th>4</th>\n",
       "      <td>82</td>\n",
       "      <td>259862</td>\n",
       "      <td>12</td>\n",
       "      <td>1447048482</td>\n",
       "      <td>1447115044</td>\n",
       "    </tr>\n",
       "    <tr>\n",
       "      <th>...</th>\n",
       "      <td>...</td>\n",
       "      <td>...</td>\n",
       "      <td>...</td>\n",
       "      <td>...</td>\n",
       "      <td>...</td>\n",
       "    </tr>\n",
       "    <tr>\n",
       "      <th>49935</th>\n",
       "      <td>791165</td>\n",
       "      <td>688684</td>\n",
       "      <td>14</td>\n",
       "      <td>1445969159</td>\n",
       "      <td>1446052520</td>\n",
       "    </tr>\n",
       "    <tr>\n",
       "      <th>49936</th>\n",
       "      <td>791237</td>\n",
       "      <td>873406</td>\n",
       "      <td>14</td>\n",
       "      <td>1450613178</td>\n",
       "      <td>1450667809</td>\n",
       "    </tr>\n",
       "    <tr>\n",
       "      <th>49937</th>\n",
       "      <td>791283</td>\n",
       "      <td>210305</td>\n",
       "      <td>14</td>\n",
       "      <td>1447523283</td>\n",
       "      <td>1447644242</td>\n",
       "    </tr>\n",
       "    <tr>\n",
       "      <th>49938</th>\n",
       "      <td>791290</td>\n",
       "      <td>756693</td>\n",
       "      <td>14</td>\n",
       "      <td>1451225076</td>\n",
       "      <td>1451259613</td>\n",
       "    </tr>\n",
       "    <tr>\n",
       "      <th>49939</th>\n",
       "      <td>791311</td>\n",
       "      <td>150719</td>\n",
       "      <td>14</td>\n",
       "      <td>1444875153</td>\n",
       "      <td>1444963549</td>\n",
       "    </tr>\n",
       "  </tbody>\n",
       "</table>\n",
       "<p>49940 rows × 5 columns</p>\n",
       "</div>"
      ],
      "text/plain": [
       "          src     dst  type    start_at      end_at\n",
       "0          35  261819    12  1450279885  1450349077\n",
       "1          37  561438    12  1447564289  1447669795\n",
       "2          48  139003    12  1444784010  1444900992\n",
       "3          73      68     2  1450432283  1450565346\n",
       "4          82  259862    12  1447048482  1447115044\n",
       "...       ...     ...   ...         ...         ...\n",
       "49935  791165  688684    14  1445969159  1446052520\n",
       "49936  791237  873406    14  1450613178  1450667809\n",
       "49937  791283  210305    14  1447523283  1447644242\n",
       "49938  791290  756693    14  1451225076  1451259613\n",
       "49939  791311  150719    14  1444875153  1444963549\n",
       "\n",
       "[49940 rows x 5 columns]"
      ]
     },
     "execution_count": 18,
     "metadata": {},
     "output_type": "execute_result"
    }
   ],
   "source": [
    "test_csv_b"
   ]
  },
  {
   "cell_type": "code",
   "execution_count": 19,
   "metadata": {},
   "outputs": [
    {
     "data": {
      "text/plain": [
       "12    37814\n",
       "2      3704\n",
       "14     2171\n",
       "10     1403\n",
       "4      1389\n",
       "7       785\n",
       "6       718\n",
       "3       658\n",
       "8       536\n",
       "5       318\n",
       "Name: type, dtype: int64"
      ]
     },
     "execution_count": 19,
     "metadata": {},
     "output_type": "execute_result"
    }
   ],
   "source": [
    "test_csv_b['type'].value_counts().head(10)"
   ]
  },
  {
   "cell_type": "code",
   "execution_count": 20,
   "metadata": {},
   "outputs": [
    {
     "data": {
      "text/html": [
       "<div>\n",
       "<style scoped>\n",
       "    .dataframe tbody tr th:only-of-type {\n",
       "        vertical-align: middle;\n",
       "    }\n",
       "\n",
       "    .dataframe tbody tr th {\n",
       "        vertical-align: top;\n",
       "    }\n",
       "\n",
       "    .dataframe thead th {\n",
       "        text-align: right;\n",
       "    }\n",
       "</style>\n",
       "<table border=\"1\" class=\"dataframe\">\n",
       "  <thead>\n",
       "    <tr style=\"text-align: right;\">\n",
       "      <th></th>\n",
       "      <th>start_at</th>\n",
       "    </tr>\n",
       "  </thead>\n",
       "  <tbody>\n",
       "    <tr>\n",
       "      <th>count</th>\n",
       "      <td>4.994000e+04</td>\n",
       "    </tr>\n",
       "    <tr>\n",
       "      <th>mean</th>\n",
       "      <td>1.447204e+09</td>\n",
       "    </tr>\n",
       "    <tr>\n",
       "      <th>std</th>\n",
       "      <td>2.323304e+06</td>\n",
       "    </tr>\n",
       "    <tr>\n",
       "      <th>min</th>\n",
       "      <td>1.443548e+09</td>\n",
       "    </tr>\n",
       "    <tr>\n",
       "      <th>25%</th>\n",
       "      <td>1.445137e+09</td>\n",
       "    </tr>\n",
       "    <tr>\n",
       "      <th>50%</th>\n",
       "      <td>1.447061e+09</td>\n",
       "    </tr>\n",
       "    <tr>\n",
       "      <th>75%</th>\n",
       "      <td>1.449180e+09</td>\n",
       "    </tr>\n",
       "    <tr>\n",
       "      <th>max</th>\n",
       "      <td>1.451602e+09</td>\n",
       "    </tr>\n",
       "  </tbody>\n",
       "</table>\n",
       "</div>"
      ],
      "text/plain": [
       "           start_at\n",
       "count  4.994000e+04\n",
       "mean   1.447204e+09\n",
       "std    2.323304e+06\n",
       "min    1.443548e+09\n",
       "25%    1.445137e+09\n",
       "50%    1.447061e+09\n",
       "75%    1.449180e+09\n",
       "max    1.451602e+09"
      ]
     },
     "execution_count": 20,
     "metadata": {},
     "output_type": "execute_result"
    }
   ],
   "source": [
    "test_csv_b[['start_at']].describe()"
   ]
  },
  {
   "cell_type": "code",
   "execution_count": 21,
   "metadata": {},
   "outputs": [
    {
     "data": {
      "text/html": [
       "<div>\n",
       "<style scoped>\n",
       "    .dataframe tbody tr th:only-of-type {\n",
       "        vertical-align: middle;\n",
       "    }\n",
       "\n",
       "    .dataframe tbody tr th {\n",
       "        vertical-align: top;\n",
       "    }\n",
       "\n",
       "    .dataframe thead th {\n",
       "        text-align: right;\n",
       "    }\n",
       "</style>\n",
       "<table border=\"1\" class=\"dataframe\">\n",
       "  <thead>\n",
       "    <tr style=\"text-align: right;\">\n",
       "      <th></th>\n",
       "      <th>end_at</th>\n",
       "    </tr>\n",
       "  </thead>\n",
       "  <tbody>\n",
       "    <tr>\n",
       "      <th>count</th>\n",
       "      <td>4.994000e+04</td>\n",
       "    </tr>\n",
       "    <tr>\n",
       "      <th>mean</th>\n",
       "      <td>1.447291e+09</td>\n",
       "    </tr>\n",
       "    <tr>\n",
       "      <th>std</th>\n",
       "      <td>2.323180e+06</td>\n",
       "    </tr>\n",
       "    <tr>\n",
       "      <th>min</th>\n",
       "      <td>1.443633e+09</td>\n",
       "    </tr>\n",
       "    <tr>\n",
       "      <th>25%</th>\n",
       "      <td>1.445225e+09</td>\n",
       "    </tr>\n",
       "    <tr>\n",
       "      <th>50%</th>\n",
       "      <td>1.447144e+09</td>\n",
       "    </tr>\n",
       "    <tr>\n",
       "      <th>75%</th>\n",
       "      <td>1.449271e+09</td>\n",
       "    </tr>\n",
       "    <tr>\n",
       "      <th>max</th>\n",
       "      <td>1.451689e+09</td>\n",
       "    </tr>\n",
       "  </tbody>\n",
       "</table>\n",
       "</div>"
      ],
      "text/plain": [
       "             end_at\n",
       "count  4.994000e+04\n",
       "mean   1.447291e+09\n",
       "std    2.323180e+06\n",
       "min    1.443633e+09\n",
       "25%    1.445225e+09\n",
       "50%    1.447144e+09\n",
       "75%    1.449271e+09\n",
       "max    1.451689e+09"
      ]
     },
     "execution_count": 21,
     "metadata": {},
     "output_type": "execute_result"
    }
   ],
   "source": [
    "test_csv_b[['end_at']].describe()"
   ]
  },
  {
   "cell_type": "code",
   "execution_count": 22,
   "metadata": {},
   "outputs": [
    {
     "data": {
      "text/plain": [
       "20295     7\n",
       "245695    6\n",
       "313823    6\n",
       "374434    6\n",
       "372578    6\n",
       "31346     6\n",
       "329454    6\n",
       "180350    6\n",
       "17873     6\n",
       "378762    6\n",
       "378703    5\n",
       "319524    5\n",
       "378054    5\n",
       "284055    5\n",
       "385594    5\n",
       "Name: src, dtype: int64"
      ]
     },
     "execution_count": 22,
     "metadata": {},
     "output_type": "execute_result"
    }
   ],
   "source": [
    "test_csv_b['src'].value_counts().head(15)"
   ]
  },
  {
   "cell_type": "code",
   "execution_count": 23,
   "metadata": {},
   "outputs": [
    {
     "data": {
      "text/plain": [
       "449537    6\n",
       "241190    5\n",
       "332173    5\n",
       "14291     5\n",
       "404986    4\n",
       "451467    4\n",
       "14630     4\n",
       "448761    4\n",
       "393537    4\n",
       "455594    4\n",
       "851776    4\n",
       "208026    4\n",
       "437090    4\n",
       "131969    4\n",
       "226778    4\n",
       "Name: dst, dtype: int64"
      ]
     },
     "execution_count": 23,
     "metadata": {},
     "output_type": "execute_result"
    }
   ],
   "source": [
    "test_csv_b['dst'].value_counts().head(15)"
   ]
  },
  {
   "cell_type": "markdown",
   "metadata": {},
   "source": [
    "## initial test B 探索"
   ]
  },
  {
   "cell_type": "code",
   "execution_count": 24,
   "metadata": {},
   "outputs": [],
   "source": [
    "test_csv_b_init = pd.read_csv('./test_csvs/input_B_initial.csv', names=['src', 'dst', 'type', 'start_at', 'end_at', 'exist'])\n",
    "label = test_csv_b_init.exist.values\n",
    "etype = test_csv_b_init.type.values\n",
    "src = test_csv_b_init.src.values\n",
    "dst = test_csv_b_init.dst.values\n",
    "start_at = torch.tensor(test_csv_b_init.start_at.values)\n",
    "end_at = torch.tensor(test_csv_b_init.end_at.values)"
   ]
  },
  {
   "cell_type": "code",
   "execution_count": 25,
   "metadata": {},
   "outputs": [
    {
     "data": {
      "text/html": [
       "<div>\n",
       "<style scoped>\n",
       "    .dataframe tbody tr th:only-of-type {\n",
       "        vertical-align: middle;\n",
       "    }\n",
       "\n",
       "    .dataframe tbody tr th {\n",
       "        vertical-align: top;\n",
       "    }\n",
       "\n",
       "    .dataframe thead th {\n",
       "        text-align: right;\n",
       "    }\n",
       "</style>\n",
       "<table border=\"1\" class=\"dataframe\">\n",
       "  <thead>\n",
       "    <tr style=\"text-align: right;\">\n",
       "      <th></th>\n",
       "      <th>src</th>\n",
       "      <th>dst</th>\n",
       "      <th>type</th>\n",
       "      <th>start_at</th>\n",
       "      <th>end_at</th>\n",
       "      <th>exist</th>\n",
       "    </tr>\n",
       "  </thead>\n",
       "  <tbody>\n",
       "    <tr>\n",
       "      <th>0</th>\n",
       "      <td>178101</td>\n",
       "      <td>199930</td>\n",
       "      <td>12</td>\n",
       "      <td>1444028118</td>\n",
       "      <td>1444218475</td>\n",
       "      <td>0</td>\n",
       "    </tr>\n",
       "    <tr>\n",
       "      <th>1</th>\n",
       "      <td>283252</td>\n",
       "      <td>331153</td>\n",
       "      <td>12</td>\n",
       "      <td>1446453453</td>\n",
       "      <td>1446598532</td>\n",
       "      <td>0</td>\n",
       "    </tr>\n",
       "    <tr>\n",
       "      <th>2</th>\n",
       "      <td>260483</td>\n",
       "      <td>302134</td>\n",
       "      <td>12</td>\n",
       "      <td>1443563371</td>\n",
       "      <td>1443709728</td>\n",
       "      <td>1</td>\n",
       "    </tr>\n",
       "    <tr>\n",
       "      <th>3</th>\n",
       "      <td>385076</td>\n",
       "      <td>463550</td>\n",
       "      <td>12</td>\n",
       "      <td>1449752079</td>\n",
       "      <td>1449899531</td>\n",
       "      <td>0</td>\n",
       "    </tr>\n",
       "    <tr>\n",
       "      <th>4</th>\n",
       "      <td>15300</td>\n",
       "      <td>14459</td>\n",
       "      <td>12</td>\n",
       "      <td>1443545422</td>\n",
       "      <td>1443695559</td>\n",
       "      <td>1</td>\n",
       "    </tr>\n",
       "    <tr>\n",
       "      <th>...</th>\n",
       "      <td>...</td>\n",
       "      <td>...</td>\n",
       "      <td>...</td>\n",
       "      <td>...</td>\n",
       "      <td>...</td>\n",
       "      <td>...</td>\n",
       "    </tr>\n",
       "    <tr>\n",
       "      <th>3858</th>\n",
       "      <td>385406</td>\n",
       "      <td>464015</td>\n",
       "      <td>12</td>\n",
       "      <td>1448048830</td>\n",
       "      <td>1448249592</td>\n",
       "      <td>0</td>\n",
       "    </tr>\n",
       "    <tr>\n",
       "      <th>3859</th>\n",
       "      <td>367650</td>\n",
       "      <td>440664</td>\n",
       "      <td>12</td>\n",
       "      <td>1448429756</td>\n",
       "      <td>1448543166</td>\n",
       "      <td>0</td>\n",
       "    </tr>\n",
       "    <tr>\n",
       "      <th>3860</th>\n",
       "      <td>386363</td>\n",
       "      <td>465284</td>\n",
       "      <td>12</td>\n",
       "      <td>1443535678</td>\n",
       "      <td>1443696394</td>\n",
       "      <td>1</td>\n",
       "    </tr>\n",
       "    <tr>\n",
       "      <th>3861</th>\n",
       "      <td>386174</td>\n",
       "      <td>465031</td>\n",
       "      <td>12</td>\n",
       "      <td>1443589758</td>\n",
       "      <td>1443712525</td>\n",
       "      <td>1</td>\n",
       "    </tr>\n",
       "    <tr>\n",
       "      <th>3862</th>\n",
       "      <td>386297</td>\n",
       "      <td>465201</td>\n",
       "      <td>12</td>\n",
       "      <td>1443596615</td>\n",
       "      <td>1443740477</td>\n",
       "      <td>1</td>\n",
       "    </tr>\n",
       "  </tbody>\n",
       "</table>\n",
       "<p>3863 rows × 6 columns</p>\n",
       "</div>"
      ],
      "text/plain": [
       "         src     dst  type    start_at      end_at  exist\n",
       "0     178101  199930    12  1444028118  1444218475      0\n",
       "1     283252  331153    12  1446453453  1446598532      0\n",
       "2     260483  302134    12  1443563371  1443709728      1\n",
       "3     385076  463550    12  1449752079  1449899531      0\n",
       "4      15300   14459    12  1443545422  1443695559      1\n",
       "...      ...     ...   ...         ...         ...    ...\n",
       "3858  385406  464015    12  1448048830  1448249592      0\n",
       "3859  367650  440664    12  1448429756  1448543166      0\n",
       "3860  386363  465284    12  1443535678  1443696394      1\n",
       "3861  386174  465031    12  1443589758  1443712525      1\n",
       "3862  386297  465201    12  1443596615  1443740477      1\n",
       "\n",
       "[3863 rows x 6 columns]"
      ]
     },
     "execution_count": 25,
     "metadata": {},
     "output_type": "execute_result"
    }
   ],
   "source": [
    "test_csv_b_init"
   ]
  },
  {
   "cell_type": "code",
   "execution_count": 26,
   "metadata": {},
   "outputs": [
    {
     "data": {
      "text/plain": [
       "12    2991\n",
       "2      225\n",
       "10     138\n",
       "14     117\n",
       "4       68\n",
       "8       67\n",
       "3       66\n",
       "7       61\n",
       "6       52\n",
       "5       41\n",
       "Name: type, dtype: int64"
      ]
     },
     "execution_count": 26,
     "metadata": {},
     "output_type": "execute_result"
    }
   ],
   "source": [
    "test_csv_b_init['type'].value_counts().head(10)"
   ]
  },
  {
   "cell_type": "code",
   "execution_count": 27,
   "metadata": {},
   "outputs": [
    {
     "data": {
      "text/html": [
       "<div>\n",
       "<style scoped>\n",
       "    .dataframe tbody tr th:only-of-type {\n",
       "        vertical-align: middle;\n",
       "    }\n",
       "\n",
       "    .dataframe tbody tr th {\n",
       "        vertical-align: top;\n",
       "    }\n",
       "\n",
       "    .dataframe thead th {\n",
       "        text-align: right;\n",
       "    }\n",
       "</style>\n",
       "<table border=\"1\" class=\"dataframe\">\n",
       "  <thead>\n",
       "    <tr style=\"text-align: right;\">\n",
       "      <th></th>\n",
       "      <th>start_at</th>\n",
       "    </tr>\n",
       "  </thead>\n",
       "  <tbody>\n",
       "    <tr>\n",
       "      <th>count</th>\n",
       "      <td>3.863000e+03</td>\n",
       "    </tr>\n",
       "    <tr>\n",
       "      <th>mean</th>\n",
       "      <td>1.444974e+09</td>\n",
       "    </tr>\n",
       "    <tr>\n",
       "      <th>std</th>\n",
       "      <td>2.355610e+06</td>\n",
       "    </tr>\n",
       "    <tr>\n",
       "      <th>min</th>\n",
       "      <td>1.443500e+09</td>\n",
       "    </tr>\n",
       "    <tr>\n",
       "      <th>25%</th>\n",
       "      <td>1.443546e+09</td>\n",
       "    </tr>\n",
       "    <tr>\n",
       "      <th>50%</th>\n",
       "      <td>1.443578e+09</td>\n",
       "    </tr>\n",
       "    <tr>\n",
       "      <th>75%</th>\n",
       "      <td>1.446023e+09</td>\n",
       "    </tr>\n",
       "    <tr>\n",
       "      <th>max</th>\n",
       "      <td>1.451524e+09</td>\n",
       "    </tr>\n",
       "  </tbody>\n",
       "</table>\n",
       "</div>"
      ],
      "text/plain": [
       "           start_at\n",
       "count  3.863000e+03\n",
       "mean   1.444974e+09\n",
       "std    2.355610e+06\n",
       "min    1.443500e+09\n",
       "25%    1.443546e+09\n",
       "50%    1.443578e+09\n",
       "75%    1.446023e+09\n",
       "max    1.451524e+09"
      ]
     },
     "execution_count": 27,
     "metadata": {},
     "output_type": "execute_result"
    }
   ],
   "source": [
    "test_csv_b_init[['start_at']].describe()"
   ]
  },
  {
   "cell_type": "code",
   "execution_count": 28,
   "metadata": {},
   "outputs": [
    {
     "data": {
      "text/html": [
       "<div>\n",
       "<style scoped>\n",
       "    .dataframe tbody tr th:only-of-type {\n",
       "        vertical-align: middle;\n",
       "    }\n",
       "\n",
       "    .dataframe tbody tr th {\n",
       "        vertical-align: top;\n",
       "    }\n",
       "\n",
       "    .dataframe thead th {\n",
       "        text-align: right;\n",
       "    }\n",
       "</style>\n",
       "<table border=\"1\" class=\"dataframe\">\n",
       "  <thead>\n",
       "    <tr style=\"text-align: right;\">\n",
       "      <th></th>\n",
       "      <th>end_at</th>\n",
       "    </tr>\n",
       "  </thead>\n",
       "  <tbody>\n",
       "    <tr>\n",
       "      <th>count</th>\n",
       "      <td>3.863000e+03</td>\n",
       "    </tr>\n",
       "    <tr>\n",
       "      <th>mean</th>\n",
       "      <td>1.445145e+09</td>\n",
       "    </tr>\n",
       "    <tr>\n",
       "      <th>std</th>\n",
       "      <td>2.357560e+06</td>\n",
       "    </tr>\n",
       "    <tr>\n",
       "      <th>min</th>\n",
       "      <td>1.443673e+09</td>\n",
       "    </tr>\n",
       "    <tr>\n",
       "      <th>25%</th>\n",
       "      <td>1.443714e+09</td>\n",
       "    </tr>\n",
       "    <tr>\n",
       "      <th>50%</th>\n",
       "      <td>1.443747e+09</td>\n",
       "    </tr>\n",
       "    <tr>\n",
       "      <th>75%</th>\n",
       "      <td>1.446192e+09</td>\n",
       "    </tr>\n",
       "    <tr>\n",
       "      <th>max</th>\n",
       "      <td>1.451716e+09</td>\n",
       "    </tr>\n",
       "  </tbody>\n",
       "</table>\n",
       "</div>"
      ],
      "text/plain": [
       "             end_at\n",
       "count  3.863000e+03\n",
       "mean   1.445145e+09\n",
       "std    2.357560e+06\n",
       "min    1.443673e+09\n",
       "25%    1.443714e+09\n",
       "50%    1.443747e+09\n",
       "75%    1.446192e+09\n",
       "max    1.451716e+09"
      ]
     },
     "execution_count": 28,
     "metadata": {},
     "output_type": "execute_result"
    }
   ],
   "source": [
    "test_csv_b_init[['end_at']].describe()"
   ]
  },
  {
   "cell_type": "code",
   "execution_count": 29,
   "metadata": {},
   "outputs": [
    {
     "data": {
      "text/plain": [
       "372753    18\n",
       "376839    11\n",
       "377946    11\n",
       "386533    10\n",
       "386521     9\n",
       "274130     9\n",
       "361455     9\n",
       "366504     8\n",
       "362934     8\n",
       "365804     8\n",
       "374584     8\n",
       "326378     8\n",
       "650450     8\n",
       "382114     8\n",
       "386529     7\n",
       "Name: src, dtype: int64"
      ]
     },
     "execution_count": 29,
     "metadata": {},
     "output_type": "execute_result"
    }
   ],
   "source": [
    "test_csv_b_init['src'].value_counts().head(15)"
   ]
  },
  {
   "cell_type": "code",
   "execution_count": 30,
   "metadata": {},
   "outputs": [
    {
     "data": {
      "text/plain": [
       "447352    17\n",
       "454221    11\n",
       "452720    10\n",
       "465502    10\n",
       "465489     9\n",
       "432520     8\n",
       "465503     8\n",
       "434465     8\n",
       "462752     8\n",
       "464749     7\n",
       "438233     7\n",
       "461846     7\n",
       "456543     7\n",
       "461060     7\n",
       "425968     7\n",
       "Name: dst, dtype: int64"
      ]
     },
     "execution_count": 30,
     "metadata": {},
     "output_type": "execute_result"
    }
   ],
   "source": [
    "test_csv_b_init['dst'].value_counts().head(15)"
   ]
  },
  {
   "cell_type": "markdown",
   "metadata": {},
   "source": [
    "# 2、训练集探索"
   ]
  },
  {
   "cell_type": "markdown",
   "metadata": {},
   "source": [
    "## A train -- edge_csv"
   ]
  },
  {
   "cell_type": "code",
   "execution_count": 31,
   "metadata": {},
   "outputs": [],
   "source": [
    "edge_csv_a = pd.read_csv(f'./train_csvs/edges_train_A.csv', header=None)"
   ]
  },
  {
   "cell_type": "code",
   "execution_count": 32,
   "metadata": {},
   "outputs": [
    {
     "data": {
      "text/html": [
       "<div>\n",
       "<style scoped>\n",
       "    .dataframe tbody tr th:only-of-type {\n",
       "        vertical-align: middle;\n",
       "    }\n",
       "\n",
       "    .dataframe tbody tr th {\n",
       "        vertical-align: top;\n",
       "    }\n",
       "\n",
       "    .dataframe thead th {\n",
       "        text-align: right;\n",
       "    }\n",
       "</style>\n",
       "<table border=\"1\" class=\"dataframe\">\n",
       "  <thead>\n",
       "    <tr style=\"text-align: right;\">\n",
       "      <th></th>\n",
       "      <th>0</th>\n",
       "      <th>1</th>\n",
       "      <th>2</th>\n",
       "      <th>3</th>\n",
       "    </tr>\n",
       "  </thead>\n",
       "  <tbody>\n",
       "    <tr>\n",
       "      <th>0</th>\n",
       "      <td>106</td>\n",
       "      <td>28905</td>\n",
       "      <td>96</td>\n",
       "      <td>1413662400</td>\n",
       "    </tr>\n",
       "    <tr>\n",
       "      <th>1</th>\n",
       "      <td>211</td>\n",
       "      <td>14601</td>\n",
       "      <td>32</td>\n",
       "      <td>1413662400</td>\n",
       "    </tr>\n",
       "    <tr>\n",
       "      <th>2</th>\n",
       "      <td>1355</td>\n",
       "      <td>45804</td>\n",
       "      <td>65</td>\n",
       "      <td>1413662400</td>\n",
       "    </tr>\n",
       "    <tr>\n",
       "      <th>3</th>\n",
       "      <td>2540</td>\n",
       "      <td>60948</td>\n",
       "      <td>69</td>\n",
       "      <td>1413662400</td>\n",
       "    </tr>\n",
       "    <tr>\n",
       "      <th>4</th>\n",
       "      <td>2867</td>\n",
       "      <td>28905</td>\n",
       "      <td>74</td>\n",
       "      <td>1413662400</td>\n",
       "    </tr>\n",
       "    <tr>\n",
       "      <th>...</th>\n",
       "      <td>...</td>\n",
       "      <td>...</td>\n",
       "      <td>...</td>\n",
       "      <td>...</td>\n",
       "    </tr>\n",
       "    <tr>\n",
       "      <th>27045263</th>\n",
       "      <td>69788</td>\n",
       "      <td>28905</td>\n",
       "      <td>20</td>\n",
       "      <td>1494705600</td>\n",
       "    </tr>\n",
       "    <tr>\n",
       "      <th>27045264</th>\n",
       "      <td>69788</td>\n",
       "      <td>28905</td>\n",
       "      <td>243</td>\n",
       "      <td>1494705600</td>\n",
       "    </tr>\n",
       "    <tr>\n",
       "      <th>27045265</th>\n",
       "      <td>69788</td>\n",
       "      <td>45285</td>\n",
       "      <td>36</td>\n",
       "      <td>1494705600</td>\n",
       "    </tr>\n",
       "    <tr>\n",
       "      <th>27045266</th>\n",
       "      <td>69788</td>\n",
       "      <td>61356</td>\n",
       "      <td>93</td>\n",
       "      <td>1494705600</td>\n",
       "    </tr>\n",
       "    <tr>\n",
       "      <th>27045267</th>\n",
       "      <td>69947</td>\n",
       "      <td>28905</td>\n",
       "      <td>220</td>\n",
       "      <td>1494705600</td>\n",
       "    </tr>\n",
       "  </tbody>\n",
       "</table>\n",
       "<p>27045268 rows × 4 columns</p>\n",
       "</div>"
      ],
      "text/plain": [
       "              0      1    2           3\n",
       "0           106  28905   96  1413662400\n",
       "1           211  14601   32  1413662400\n",
       "2          1355  45804   65  1413662400\n",
       "3          2540  60948   69  1413662400\n",
       "4          2867  28905   74  1413662400\n",
       "...         ...    ...  ...         ...\n",
       "27045263  69788  28905   20  1494705600\n",
       "27045264  69788  28905  243  1494705600\n",
       "27045265  69788  45285   36  1494705600\n",
       "27045266  69788  61356   93  1494705600\n",
       "27045267  69947  28905  220  1494705600\n",
       "\n",
       "[27045268 rows x 4 columns]"
      ]
     },
     "execution_count": 32,
     "metadata": {},
     "output_type": "execute_result"
    }
   ],
   "source": [
    "edge_csv_a"
   ]
  },
  {
   "cell_type": "code",
   "execution_count": 33,
   "metadata": {},
   "outputs": [
    {
     "data": {
      "text/html": [
       "<div>\n",
       "<style scoped>\n",
       "    .dataframe tbody tr th:only-of-type {\n",
       "        vertical-align: middle;\n",
       "    }\n",
       "\n",
       "    .dataframe tbody tr th {\n",
       "        vertical-align: top;\n",
       "    }\n",
       "\n",
       "    .dataframe thead th {\n",
       "        text-align: right;\n",
       "    }\n",
       "</style>\n",
       "<table border=\"1\" class=\"dataframe\">\n",
       "  <thead>\n",
       "    <tr style=\"text-align: right;\">\n",
       "      <th></th>\n",
       "      <th>3</th>\n",
       "    </tr>\n",
       "  </thead>\n",
       "  <tbody>\n",
       "    <tr>\n",
       "      <th>count</th>\n",
       "      <td>2.704527e+07</td>\n",
       "    </tr>\n",
       "    <tr>\n",
       "      <th>mean</th>\n",
       "      <td>1.452709e+09</td>\n",
       "    </tr>\n",
       "    <tr>\n",
       "      <th>std</th>\n",
       "      <td>2.326762e+07</td>\n",
       "    </tr>\n",
       "    <tr>\n",
       "      <th>min</th>\n",
       "      <td>1.413662e+09</td>\n",
       "    </tr>\n",
       "    <tr>\n",
       "      <th>25%</th>\n",
       "      <td>1.432512e+09</td>\n",
       "    </tr>\n",
       "    <tr>\n",
       "      <th>50%</th>\n",
       "      <td>1.451538e+09</td>\n",
       "    </tr>\n",
       "    <tr>\n",
       "      <th>75%</th>\n",
       "      <td>1.472648e+09</td>\n",
       "    </tr>\n",
       "    <tr>\n",
       "      <th>max</th>\n",
       "      <td>1.494706e+09</td>\n",
       "    </tr>\n",
       "  </tbody>\n",
       "</table>\n",
       "</div>"
      ],
      "text/plain": [
       "                  3\n",
       "count  2.704527e+07\n",
       "mean   1.452709e+09\n",
       "std    2.326762e+07\n",
       "min    1.413662e+09\n",
       "25%    1.432512e+09\n",
       "50%    1.451538e+09\n",
       "75%    1.472648e+09\n",
       "max    1.494706e+09"
      ]
     },
     "execution_count": 33,
     "metadata": {},
     "output_type": "execute_result"
    }
   ],
   "source": [
    "# timestamp\n",
    "time_a = edge_csv_a[[3]]\n",
    "time_a.describe()"
   ]
  },
  {
   "cell_type": "code",
   "execution_count": 34,
   "metadata": {},
   "outputs": [
    {
     "data": {
      "text/plain": [
       "74     2101539\n",
       "8      2006865\n",
       "151    1885342\n",
       "33     1606134\n",
       "20     1595066\n",
       "65     1502621\n",
       "237    1164627\n",
       "69     1096837\n",
       "198     867761\n",
       "71      838554\n",
       "Name: 2, dtype: int64"
      ]
     },
     "execution_count": 34,
     "metadata": {},
     "output_type": "execute_result"
    }
   ],
   "source": [
    "# etype\n",
    "edge_csv_a[2].value_counts().head(10)"
   ]
  },
  {
   "cell_type": "markdown",
   "metadata": {},
   "source": [
    "## A train -- node_features"
   ]
  },
  {
   "cell_type": "code",
   "execution_count": 35,
   "metadata": {},
   "outputs": [],
   "source": [
    "node_feat_csv_a = pd.read_csv('./train_csvs/node_features.csv', header=None)\n",
    "node_feat = node_feat_csv_a.values[:, 1:]"
   ]
  },
  {
   "cell_type": "code",
   "execution_count": 36,
   "metadata": {},
   "outputs": [
    {
     "data": {
      "text/plain": [
       "0.7635081267359325"
      ]
     },
     "execution_count": 36,
     "metadata": {},
     "output_type": "execute_result"
    }
   ],
   "source": [
    "# 统计node_feat中的缺失值（-1）的占比\n",
    "(node_feat == -1).sum() / (node_feat.shape[0] * node_feat.shape[1])"
   ]
  },
  {
   "cell_type": "markdown",
   "metadata": {},
   "source": [
    "## B train -- edge_csv"
   ]
  },
  {
   "cell_type": "code",
   "execution_count": 37,
   "metadata": {},
   "outputs": [
    {
     "data": {
      "text/html": [
       "<div>\n",
       "<style scoped>\n",
       "    .dataframe tbody tr th:only-of-type {\n",
       "        vertical-align: middle;\n",
       "    }\n",
       "\n",
       "    .dataframe tbody tr th {\n",
       "        vertical-align: top;\n",
       "    }\n",
       "\n",
       "    .dataframe thead th {\n",
       "        text-align: right;\n",
       "    }\n",
       "</style>\n",
       "<table border=\"1\" class=\"dataframe\">\n",
       "  <thead>\n",
       "    <tr style=\"text-align: right;\">\n",
       "      <th></th>\n",
       "      <th>0</th>\n",
       "      <th>1</th>\n",
       "      <th>2</th>\n",
       "      <th>3</th>\n",
       "      <th>4</th>\n",
       "    </tr>\n",
       "  </thead>\n",
       "  <tbody>\n",
       "    <tr>\n",
       "      <th>0</th>\n",
       "      <td>21499</td>\n",
       "      <td>21012</td>\n",
       "      <td>2</td>\n",
       "      <td>1420074012</td>\n",
       "      <td>NaN</td>\n",
       "    </tr>\n",
       "    <tr>\n",
       "      <th>1</th>\n",
       "      <td>672377</td>\n",
       "      <td>795545</td>\n",
       "      <td>12</td>\n",
       "      <td>1420074016</td>\n",
       "      <td>NaN</td>\n",
       "    </tr>\n",
       "    <tr>\n",
       "      <th>2</th>\n",
       "      <td>104556</td>\n",
       "      <td>264221</td>\n",
       "      <td>12</td>\n",
       "      <td>1420074016</td>\n",
       "      <td>NaN</td>\n",
       "    </tr>\n",
       "    <tr>\n",
       "      <th>3</th>\n",
       "      <td>653813</td>\n",
       "      <td>772791</td>\n",
       "      <td>12</td>\n",
       "      <td>1420074017</td>\n",
       "      <td>NaN</td>\n",
       "    </tr>\n",
       "    <tr>\n",
       "      <th>4</th>\n",
       "      <td>21500</td>\n",
       "      <td>21013</td>\n",
       "      <td>2</td>\n",
       "      <td>1420074021</td>\n",
       "      <td>NaN</td>\n",
       "    </tr>\n",
       "    <tr>\n",
       "      <th>...</th>\n",
       "      <td>...</td>\n",
       "      <td>...</td>\n",
       "      <td>...</td>\n",
       "      <td>...</td>\n",
       "      <td>...</td>\n",
       "    </tr>\n",
       "    <tr>\n",
       "      <th>8278426</th>\n",
       "      <td>386544</td>\n",
       "      <td>465515</td>\n",
       "      <td>2</td>\n",
       "      <td>1443628795</td>\n",
       "      <td>NaN</td>\n",
       "    </tr>\n",
       "    <tr>\n",
       "      <th>8278427</th>\n",
       "      <td>238097</td>\n",
       "      <td>446963</td>\n",
       "      <td>12</td>\n",
       "      <td>1443628798</td>\n",
       "      <td>NaN</td>\n",
       "    </tr>\n",
       "    <tr>\n",
       "      <th>8278428</th>\n",
       "      <td>343979</td>\n",
       "      <td>409898</td>\n",
       "      <td>2</td>\n",
       "      <td>1443628799</td>\n",
       "      <td>NaN</td>\n",
       "    </tr>\n",
       "    <tr>\n",
       "      <th>8278429</th>\n",
       "      <td>376663</td>\n",
       "      <td>452473</td>\n",
       "      <td>12</td>\n",
       "      <td>1443628799</td>\n",
       "      <td>NaN</td>\n",
       "    </tr>\n",
       "    <tr>\n",
       "      <th>8278430</th>\n",
       "      <td>44492</td>\n",
       "      <td>452006</td>\n",
       "      <td>12</td>\n",
       "      <td>1443628799</td>\n",
       "      <td>NaN</td>\n",
       "    </tr>\n",
       "  </tbody>\n",
       "</table>\n",
       "<p>8278431 rows × 5 columns</p>\n",
       "</div>"
      ],
      "text/plain": [
       "              0       1   2           3    4\n",
       "0         21499   21012   2  1420074012  NaN\n",
       "1        672377  795545  12  1420074016  NaN\n",
       "2        104556  264221  12  1420074016  NaN\n",
       "3        653813  772791  12  1420074017  NaN\n",
       "4         21500   21013   2  1420074021  NaN\n",
       "...         ...     ...  ..         ...  ...\n",
       "8278426  386544  465515   2  1443628795  NaN\n",
       "8278427  238097  446963  12  1443628798  NaN\n",
       "8278428  343979  409898   2  1443628799  NaN\n",
       "8278429  376663  452473  12  1443628799  NaN\n",
       "8278430   44492  452006  12  1443628799  NaN\n",
       "\n",
       "[8278431 rows x 5 columns]"
      ]
     },
     "execution_count": 37,
     "metadata": {},
     "output_type": "execute_result"
    }
   ],
   "source": [
    "edge_csv_b = pd.read_csv(f'./train_csvs/edges_train_B.csv', header=None)\n",
    "edge_csv_b"
   ]
  },
  {
   "cell_type": "code",
   "execution_count": 38,
   "metadata": {},
   "outputs": [
    {
     "data": {
      "text/html": [
       "<div>\n",
       "<style scoped>\n",
       "    .dataframe tbody tr th:only-of-type {\n",
       "        vertical-align: middle;\n",
       "    }\n",
       "\n",
       "    .dataframe tbody tr th {\n",
       "        vertical-align: top;\n",
       "    }\n",
       "\n",
       "    .dataframe thead th {\n",
       "        text-align: right;\n",
       "    }\n",
       "</style>\n",
       "<table border=\"1\" class=\"dataframe\">\n",
       "  <thead>\n",
       "    <tr style=\"text-align: right;\">\n",
       "      <th></th>\n",
       "      <th>3</th>\n",
       "    </tr>\n",
       "  </thead>\n",
       "  <tbody>\n",
       "    <tr>\n",
       "      <th>count</th>\n",
       "      <td>8.278431e+06</td>\n",
       "    </tr>\n",
       "    <tr>\n",
       "      <th>mean</th>\n",
       "      <td>1.432215e+09</td>\n",
       "    </tr>\n",
       "    <tr>\n",
       "      <th>std</th>\n",
       "      <td>6.755162e+06</td>\n",
       "    </tr>\n",
       "    <tr>\n",
       "      <th>min</th>\n",
       "      <td>1.420074e+09</td>\n",
       "    </tr>\n",
       "    <tr>\n",
       "      <th>25%</th>\n",
       "      <td>1.426519e+09</td>\n",
       "    </tr>\n",
       "    <tr>\n",
       "      <th>50%</th>\n",
       "      <td>1.432187e+09</td>\n",
       "    </tr>\n",
       "    <tr>\n",
       "      <th>75%</th>\n",
       "      <td>1.438099e+09</td>\n",
       "    </tr>\n",
       "    <tr>\n",
       "      <th>max</th>\n",
       "      <td>1.443629e+09</td>\n",
       "    </tr>\n",
       "  </tbody>\n",
       "</table>\n",
       "</div>"
      ],
      "text/plain": [
       "                  3\n",
       "count  8.278431e+06\n",
       "mean   1.432215e+09\n",
       "std    6.755162e+06\n",
       "min    1.420074e+09\n",
       "25%    1.426519e+09\n",
       "50%    1.432187e+09\n",
       "75%    1.438099e+09\n",
       "max    1.443629e+09"
      ]
     },
     "execution_count": 38,
     "metadata": {},
     "output_type": "execute_result"
    }
   ],
   "source": [
    "edge_csv_b[[3]].describe()"
   ]
  },
  {
   "cell_type": "code",
   "execution_count": 39,
   "metadata": {},
   "outputs": [
    {
     "data": {
      "text/plain": [
       "12    5836685\n",
       "2     1150475\n",
       "10     262354\n",
       "14     242573\n",
       "4      194951\n",
       "7      139704\n",
       "3      118502\n",
       "8      111231\n",
       "6       88965\n",
       "5       64275\n",
       "1       29457\n",
       "13      25680\n",
       "9        7524\n",
       "11       6055\n",
       "Name: 2, dtype: int64"
      ]
     },
     "execution_count": 39,
     "metadata": {},
     "output_type": "execute_result"
    }
   ],
   "source": [
    "edge_csv_b[2].value_counts()"
   ]
  },
  {
   "cell_type": "code",
   "execution_count": 40,
   "metadata": {},
   "outputs": [],
   "source": [
    "def extract_edge_feature(records):\n",
    "    feat = torch.FloatTensor(np.array(list(map(lambda x: x.strip().split(','), records))).astype('float'))\n",
    "    return feat"
   ]
  },
  {
   "cell_type": "code",
   "execution_count": 41,
   "metadata": {},
   "outputs": [
    {
     "name": "stdout",
     "output_type": "stream",
     "text": [
      "0.5714285714285714\n"
     ]
    }
   ],
   "source": [
    "src_type = 'User'\n",
    "dst_type = 'Item'\n",
    "\n",
    "heterogenous_group = edge_csv_b.groupby(2)\n",
    "\n",
    "etype_feat = None\n",
    "feat_dim = 768\n",
    "\n",
    "# Assign Edge Feature\n",
    "cnt = 0\n",
    "total = 0\n",
    "for event_type, records in heterogenous_group:\n",
    "    event_type = str(event_type)\n",
    "    etype = (src_type, event_type, dst_type)\n",
    "    total += 1\n",
    "    if len(str(records[4].iloc[0])) > 3:\n",
    "        continue\n",
    "    else:\n",
    "        cnt += 1  # nan\n",
    "\n",
    "# 边特征的缺失(nan)占比\n",
    "print(float(cnt) / total)"
   ]
  },
  {
   "cell_type": "code",
   "execution_count": null,
   "metadata": {},
   "outputs": [],
   "source": []
  }
 ],
 "metadata": {
  "interpreter": {
   "hash": "7d6e9f8b297c76fb07a0d121ca94fd696bee4f63bd4011f44f51b92fd8c25d8a"
  },
  "kernelspec": {
   "display_name": "Python 3.7.11 64-bit ('env_pyg2': conda)",
   "language": "python",
   "name": "python3"
  },
  "language_info": {
   "codemirror_mode": {
    "name": "ipython",
    "version": 3
   },
   "file_extension": ".py",
   "mimetype": "text/x-python",
   "name": "python",
   "nbconvert_exporter": "python",
   "pygments_lexer": "ipython3",
   "version": "3.7.11"
  },
  "orig_nbformat": 4
 },
 "nbformat": 4,
 "nbformat_minor": 2
}
